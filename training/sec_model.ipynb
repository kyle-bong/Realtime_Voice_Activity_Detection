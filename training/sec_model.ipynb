{
 "cells": [
  {
   "cell_type": "code",
   "execution_count": 1,
   "id": "a9f5c184",
   "metadata": {},
   "outputs": [],
   "source": [
    "from sklearn.preprocessing import LabelEncoder\n",
    "from sklearn.model_selection import train_test_split\n",
    "import pandas as pd\n",
    "import numpy as np\n",
    "import os\n",
    "import tensorflow as tf\n",
    "from tensorflow.keras.models import Sequential\n",
    "from tensorflow.keras.layers import Dense, Dropout, Activation, Flatten, LSTM, TimeDistributed\n",
    "from tensorflow.keras.layers import Convolution2D, MaxPooling2D, MaxPooling1D, Conv1D\n",
    "from tensorflow.keras.optimizers import Adam, SGD\n",
    "from keras.utils import np_utils\n",
    "from keras.utils.np_utils import to_categorical\n",
    "from sklearn import metrics\n",
    "import random\n",
    "from tensorflow.keras.callbacks import EarlyStopping, ModelCheckpoint\n",
    "from tensorflow.keras import optimizers\n",
    "import datetime\n",
    "import matplotlib.pyplot as plt \n",
    "\n",
    "import librosa\n",
    "import librosa.display\n",
    "import noisereduce as nr\n",
    "import soundfile as sf"
   ]
  },
  {
   "cell_type": "code",
   "execution_count": 2,
   "id": "082d1cec",
   "metadata": {},
   "outputs": [],
   "source": [
    "def plotAudio2(output):\n",
    "    fig, ax = plt.subplots(nrows=1,ncols=1, figsize=(20,4)) #figsize=20,4\n",
    "    plt.plot(output, color='blue')\n",
    "    ax.set_xlim((0, len(output)))\n",
    "    plt.show()\n",
    "\n",
    "def draw_spectrogram(X):\n",
    "    #X = librosa.effects.preemphasis(X)\n",
    "    #clip, index = librosa.effects.trim(X, top_db=20, hop_length=256)\n",
    "    stfts = librosa.stft(X, n_fft=512, hop_length=256, win_length=512)   \n",
    "    stftsdb = librosa.amplitude_to_db(abs(stfts))\n",
    "    plt.figure(figsize=(20,4))\n",
    "    librosa.display.specshow(stftsdb, sr=16000, \n",
    "                             hop_length=256,\n",
    "                             x_axis='s', y_axis='hz')\n",
    "    plt.colorbar()"
   ]
  },
  {
   "cell_type": "code",
   "execution_count": 3,
   "id": "bda9798b",
   "metadata": {},
   "outputs": [],
   "source": [
    "def minMaxNormalize(arr):\n",
    "    mn = np.min(arr)\n",
    "    mx = np.max(arr)\n",
    "    return (arr-mn)/(mx-mn)"
   ]
  },
  {
   "cell_type": "code",
   "execution_count": 4,
   "id": "38ad4d84",
   "metadata": {},
   "outputs": [],
   "source": [
    "def get_data(path, sampleSize):\n",
    "    \n",
    "    #Category\n",
    "    OtherSound = 'OtherSound'\n",
    "    Speaking = 'Speaking'\n",
    "    \n",
    "    X = []\n",
    "    y = []\n",
    "    \n",
    "    \n",
    "    for file in os.listdir(path):\n",
    "        a = (np.load(path + \"/\" + file)).T\n",
    "        a = np.nan_to_num(a, copy=False)\n",
    "        a = np.mean(a, axis=0)\n",
    "        \n",
    "        ### Normalizing\n",
    "        a = minMaxNormalize(a)\n",
    "        \n",
    "        label = file.split('_')[-1].split(\".\")[0]\n",
    "        if label == OtherSound:\n",
    "#             print(file, 'It is OtherSound file')\n",
    "            label=\"OtherSound\"\n",
    "            X.append(a)\n",
    "            y.append(label)\n",
    "            \n",
    "        elif label == Speaking:\n",
    "#             print(file, 'It is Speaking file')\n",
    "            label=\"Speaking\"\n",
    "            X.append(a)\n",
    "            y.append(label)\n",
    "            \n",
    "\n",
    "    X_train, X_test, y_train, y_test = train_test_split(X, y, test_size=0.1, shuffle = True, random_state=123)\n",
    "    \n",
    "    X_train = np.array(X_train)\n",
    "    y_train = np.array(y_train)\n",
    "    X_test = np.array(X_test)\n",
    "    y_test = np.array(y_test)\n",
    "    \n",
    "    X_train = np.nan_to_num(X_train, copy=False)\n",
    "    y_train = np.nan_to_num(y_train, copy=False)\n",
    "    X_test = np.nan_to_num(X_test, copy=False)\n",
    "    y_test = np.nan_to_num(y_test, copy=False)\n",
    "    \n",
    "    # delete overlap\n",
    "    X_train, overlap_index = np.unique(X_train, axis=0, return_index=True)\n",
    "    y_train = y_train[overlap_index]\n",
    "\n",
    "    X_test, overlap_index = np.unique(X_test, axis=0, return_index=True)\n",
    "    y_test = y_test[overlap_index]\n",
    "\n",
    "    \n",
    "    return X_train, y_train, X_test, y_test"
   ]
  },
  {
   "cell_type": "code",
   "execution_count": 5,
   "id": "506535c0",
   "metadata": {},
   "outputs": [],
   "source": [
    "def print_M(conf_M): #???\n",
    "    s = \"activity:\"\n",
    "    for i in range(len(conf_M)):\n",
    "        s += lb.inverse_transform([i])[0] + \",\"\n",
    "    print(s[:-1])\n",
    "    for i in range(len(conf_M)):\n",
    "        s = \"\"\n",
    "        for j in range(len(conf_M)):\n",
    "            s += str(conf_M[i][j])\n",
    "            s += \",\"\n",
    "        print(lb.inverse_transform([i])[0], \",\", s[:-1])\n",
    "    print()\n",
    "    \n",
    "def print_M_P(conf_M):\n",
    "    s = \"activity:\"\n",
    "    for i in range(len(conf_M)):\n",
    "        s += lb.inverse_transform([i])[0] + \",\"\n",
    "    print(s[:-1])\n",
    "    for i in range(len(conf_M)):\n",
    "        s = \"\"\n",
    "        for j in range(len(conf_M)):\n",
    "            val = conf_M[i][j] / float(sum(conf_M[i]))\n",
    "            s += str(round(val, 2))\n",
    "            s += \",\"\n",
    "        print(lb.inverse_transform([i])[0], \",\", s[:-1])\n",
    "    print()\n",
    "    \n",
    "    \n",
    "def showResult():\n",
    "    predictions = [np.argmax(y) for y in result]\n",
    "    expected = [np.argmax(y) for y in y_test]\n",
    "\n",
    "    conf_M = [] #예측값 개수, 실젯값 개수\n",
    "    num_labels = y_test[0].shape[0]\n",
    "    for i in range(num_labels):\n",
    "        r = []\n",
    "        for j in range(num_labels):\n",
    "            r.append(0)\n",
    "        conf_M.append(r)\n",
    "    print(\"initial value of conf_M: \", conf_M)\n",
    "\n",
    "    n_tests = len(predictions)\n",
    "    for i in range(n_tests):\n",
    "        conf_M[expected[i]][predictions[i]] += 1\n",
    "\n",
    "    print(\"conf_M: \", conf_M)\n",
    "    print_M(conf_M)\n",
    "    print_M_P(conf_M)\n",
    "    print(\"label 개수: \", num_labels)\n"
   ]
  },
  {
   "cell_type": "code",
   "execution_count": 6,
   "id": "60cc8aab",
   "metadata": {},
   "outputs": [
    {
     "name": "stderr",
     "output_type": "stream",
     "text": [
      "/home/bongseok/venv3.5/lib/python3.5/site-packages/ipykernel_launcher.py:4: RuntimeWarning: invalid value encountered in true_divide\n",
      "  after removing the cwd from sys.path.\n"
     ]
    }
   ],
   "source": [
    "featuresPath = \"/home/bongseok/Desktop/speaking_detector/STFT_features\"\n",
    "\n",
    "X_train, y_train, X_test, y_test = get_data(featuresPath, 250) # 학습데이터 구축, samplesize=250"
   ]
  },
  {
   "cell_type": "code",
   "execution_count": 7,
   "id": "64ad6f8e",
   "metadata": {},
   "outputs": [
    {
     "data": {
      "text/plain": [
       "108972"
      ]
     },
     "execution_count": 7,
     "metadata": {},
     "output_type": "execute_result"
    }
   ],
   "source": [
    "len(y_train) + len(y_test)"
   ]
  },
  {
   "cell_type": "code",
   "execution_count": 8,
   "id": "1613ed96",
   "metadata": {},
   "outputs": [
    {
     "name": "stdout",
     "output_type": "stream",
     "text": [
      "97981 10991\n"
     ]
    }
   ],
   "source": [
    "print(len(y_train), len(y_test))"
   ]
  },
  {
   "cell_type": "code",
   "execution_count": 9,
   "id": "eb79c72b",
   "metadata": {},
   "outputs": [
    {
     "data": {
      "text/plain": [
       "(97981,)"
      ]
     },
     "execution_count": 9,
     "metadata": {},
     "output_type": "execute_result"
    }
   ],
   "source": [
    "y_train.shape"
   ]
  },
  {
   "cell_type": "code",
   "execution_count": 10,
   "id": "ca379841",
   "metadata": {},
   "outputs": [
    {
     "data": {
      "text/plain": [
       "(10991,)"
      ]
     },
     "execution_count": 10,
     "metadata": {},
     "output_type": "execute_result"
    }
   ],
   "source": [
    "y_test.shape"
   ]
  },
  {
   "cell_type": "code",
   "execution_count": 11,
   "id": "e6c17b2a",
   "metadata": {},
   "outputs": [
    {
     "data": {
      "text/plain": [
       "array(['OtherSound', 'OtherSound', 'OtherSound', ..., 'OtherSound',\n",
       "       'OtherSound', 'OtherSound'], dtype='<U10')"
      ]
     },
     "execution_count": 11,
     "metadata": {},
     "output_type": "execute_result"
    }
   ],
   "source": [
    "y_train"
   ]
  },
  {
   "cell_type": "code",
   "execution_count": 12,
   "id": "489b0a68",
   "metadata": {},
   "outputs": [
    {
     "data": {
      "text/plain": [
       "(97981, 257)"
      ]
     },
     "execution_count": 12,
     "metadata": {},
     "output_type": "execute_result"
    }
   ],
   "source": [
    "X_train.shape"
   ]
  },
  {
   "cell_type": "code",
   "execution_count": 13,
   "id": "c4f14ff2",
   "metadata": {},
   "outputs": [
    {
     "name": "stdout",
     "output_type": "stream",
     "text": [
      "Num of training samples: 97981\n"
     ]
    }
   ],
   "source": [
    "n_samples = len(y_train)\n",
    "print(\"Num of training samples: \" + str(n_samples))\n",
    "order = np.array(range(n_samples))\n",
    "np.random.shuffle(order)\n",
    "X_train = X_train[order]\n",
    "y_train = y_train[order]"
   ]
  },
  {
   "cell_type": "code",
   "execution_count": 14,
   "id": "a9760402",
   "metadata": {},
   "outputs": [
    {
     "data": {
      "text/plain": [
       "2"
      ]
     },
     "execution_count": 14,
     "metadata": {},
     "output_type": "execute_result"
    }
   ],
   "source": [
    "lb = LabelEncoder() \n",
    "y_train = np_utils.to_categorical(lb.fit_transform(y_train)) # fit_transform: Fit label encoder and return encoded labels\n",
    "y_test = np_utils.to_categorical(lb.fit_transform(y_test))\n",
    "\n",
    "\n",
    "num_labels = y_train.shape[1]\n",
    "num_labels"
   ]
  },
  {
   "cell_type": "code",
   "execution_count": 15,
   "id": "a6e9f257",
   "metadata": {},
   "outputs": [
    {
     "name": "stdout",
     "output_type": "stream",
     "text": [
      "47129 50852\n"
     ]
    }
   ],
   "source": [
    "oth_count = 0\n",
    "spe_count = 0\n",
    "for i in y_train:\n",
    "    if i[0] == 0.:\n",
    "        oth_count +=1\n",
    "    elif i[0] == 1.:\n",
    "        spe_count +=1\n",
    "print(oth_count, spe_count)"
   ]
  },
  {
   "cell_type": "code",
   "execution_count": 16,
   "id": "a2d3cc4d",
   "metadata": {},
   "outputs": [
    {
     "name": "stdout",
     "output_type": "stream",
     "text": [
      "5308 5683\n"
     ]
    }
   ],
   "source": [
    "oth_count = 0\n",
    "spe_count = 0\n",
    "for i in y_test:\n",
    "    if i[0] == 0.:\n",
    "        oth_count +=1\n",
    "    elif i[0] == 1.:\n",
    "        spe_count +=1\n",
    "print(oth_count, spe_count)"
   ]
  },
  {
   "cell_type": "code",
   "execution_count": 17,
   "id": "9d160857",
   "metadata": {},
   "outputs": [],
   "source": [
    "# # inverse_transform: Transform labels back to original encoding\n",
    "# lb.inverse_transform([0, 1]) "
   ]
  },
  {
   "cell_type": "code",
   "execution_count": 18,
   "id": "c44a6af1",
   "metadata": {},
   "outputs": [],
   "source": [
    "# Check Nan or Inf\n",
    "for i in X_train:\n",
    "    if np.isfinite(i.any()) == False:\n",
    "        print('false')"
   ]
  },
  {
   "cell_type": "code",
   "execution_count": 19,
   "id": "fa4a16f5",
   "metadata": {},
   "outputs": [],
   "source": [
    "for i in X_test:\n",
    "    if np.isfinite(i.any()) == False:\n",
    "        print('false')"
   ]
  },
  {
   "cell_type": "code",
   "execution_count": 20,
   "id": "5afa036e",
   "metadata": {},
   "outputs": [
    {
     "name": "stdout",
     "output_type": "stream",
     "text": [
      "257\n",
      "257\n"
     ]
    }
   ],
   "source": [
    "print(len(X_test[2]))\n",
    "print(len(X_test[3]))"
   ]
  },
  {
   "cell_type": "code",
   "execution_count": 21,
   "id": "a07d49c2",
   "metadata": {},
   "outputs": [
    {
     "data": {
      "text/plain": [
       "(97981, 257)"
      ]
     },
     "execution_count": 21,
     "metadata": {},
     "output_type": "execute_result"
    }
   ],
   "source": [
    "X_train.shape"
   ]
  },
  {
   "cell_type": "code",
   "execution_count": 22,
   "id": "9041114f",
   "metadata": {},
   "outputs": [
    {
     "data": {
      "text/plain": [
       "(10991, 257)"
      ]
     },
     "execution_count": 22,
     "metadata": {},
     "output_type": "execute_result"
    }
   ],
   "source": [
    "X_test.shape"
   ]
  },
  {
   "cell_type": "code",
   "execution_count": 23,
   "id": "f0ab3cb8",
   "metadata": {},
   "outputs": [
    {
     "data": {
      "text/plain": [
       "(97981, 2)"
      ]
     },
     "execution_count": 23,
     "metadata": {},
     "output_type": "execute_result"
    }
   ],
   "source": [
    "y_train.shape"
   ]
  },
  {
   "cell_type": "code",
   "execution_count": 24,
   "id": "9a96560e",
   "metadata": {},
   "outputs": [
    {
     "data": {
      "text/plain": [
       "(10991, 2)"
      ]
     },
     "execution_count": 24,
     "metadata": {},
     "output_type": "execute_result"
    }
   ],
   "source": [
    "y_test.shape"
   ]
  },
  {
   "cell_type": "code",
   "execution_count": 25,
   "id": "d4c2fe6a",
   "metadata": {},
   "outputs": [
    {
     "name": "stdout",
     "output_type": "stream",
     "text": [
      "Model: \"sequential\"\n",
      "_________________________________________________________________\n",
      "Layer (type)                 Output Shape              Param #   \n",
      "=================================================================\n",
      "dense (Dense)                (None, 256)               66048     \n",
      "_________________________________________________________________\n",
      "activation (Activation)      (None, 256)               0         \n",
      "_________________________________________________________________\n",
      "dropout (Dropout)            (None, 256)               0         \n",
      "_________________________________________________________________\n",
      "dense_1 (Dense)              (None, 256)               65792     \n",
      "_________________________________________________________________\n",
      "activation_1 (Activation)    (None, 256)               0         \n",
      "_________________________________________________________________\n",
      "dropout_1 (Dropout)          (None, 256)               0         \n",
      "_________________________________________________________________\n",
      "dense_2 (Dense)              (None, 128)               32896     \n",
      "_________________________________________________________________\n",
      "activation_2 (Activation)    (None, 128)               0         \n",
      "_________________________________________________________________\n",
      "dropout_2 (Dropout)          (None, 128)               0         \n",
      "_________________________________________________________________\n",
      "dense_3 (Dense)              (None, 128)               16512     \n",
      "_________________________________________________________________\n",
      "activation_3 (Activation)    (None, 128)               0         \n",
      "_________________________________________________________________\n",
      "dropout_3 (Dropout)          (None, 128)               0         \n",
      "_________________________________________________________________\n",
      "dense_4 (Dense)              (None, 2)                 258       \n",
      "_________________________________________________________________\n",
      "activation_4 (Activation)    (None, 2)                 0         \n",
      "=================================================================\n",
      "Total params: 181,506\n",
      "Trainable params: 181,506\n",
      "Non-trainable params: 0\n",
      "_________________________________________________________________\n"
     ]
    }
   ],
   "source": [
    "# build model\n",
    "\n",
    "\n",
    "opt = optimizers.Adam(learning_rate=0.001)\n",
    "\n",
    "metrics = [#tf.keras.metrics.TruePositives(name='TP'),\n",
    "           #tf.keras.metrics.FalsePositives(name='FP'),\n",
    "           #tf.keras.metrics.TrueNegatives(name='TN'),\n",
    "           #tf.keras.metrics.FalseNegatives(name='FN'),\n",
    "           tf.keras.metrics.BinaryAccuracy(name='accuracy'),\n",
    "           tf.keras.metrics.Precision(name='precision'),\n",
    "           tf.keras.metrics.Recall(name='recall'),\n",
    "tf.keras.metrics.AUC(name='auc')]\n",
    "\n",
    "\n",
    "model = Sequential()\n",
    "\n",
    "model.add(Dense(256, input_shape=(257,)))\n",
    "model.add(Activation('relu'))\n",
    "model.add(Dropout(0.25))\n",
    "\n",
    "model.add(Dense(256))\n",
    "model.add(Activation('relu'))\n",
    "model.add(Dropout(0.25))\n",
    "\n",
    "model.add(Dense(128))\n",
    "model.add(Activation('relu'))\n",
    "model.add(Dropout(0.25))\n",
    "\n",
    "model.add(Dense(128))\n",
    "model.add(Activation('relu'))\n",
    "model.add(Dropout(0.25))\n",
    "\n",
    "model.add(Dense(num_labels))\n",
    "model.add(Activation('softmax'))\n",
    "\n",
    "model.compile(loss='binary_crossentropy', metrics=metrics, optimizer=opt)\n",
    "model.summary()"
   ]
  },
  {
   "cell_type": "code",
   "execution_count": 26,
   "id": "faec199e",
   "metadata": {},
   "outputs": [
    {
     "name": "stdout",
     "output_type": "stream",
     "text": [
      "Epoch 1/100\n",
      "173/173 [==============================] - 2s 10ms/step - recall: 0.8616 - loss: 0.3432 - auc: 0.9282 - precision: 0.8616 - accuracy: 0.8616 - val_precision: 0.9108 - val_accuracy: 0.9108 - val_recall: 0.9108 - val_auc: 0.9614 - val_loss: 0.2471\n",
      "Epoch 2/100\n",
      "173/173 [==============================] - 2s 9ms/step - recall: 0.9073 - loss: 0.2445 - auc: 0.9627 - precision: 0.9073 - accuracy: 0.9073 - val_precision: 0.9133 - val_accuracy: 0.9133 - val_recall: 0.9133 - val_auc: 0.9685 - val_loss: 0.2269\n",
      "Epoch 3/100\n",
      "173/173 [==============================] - 1s 8ms/step - recall: 0.9187 - loss: 0.2141 - auc: 0.9714 - precision: 0.9187 - accuracy: 0.9187 - val_precision: 0.9265 - val_accuracy: 0.9265 - val_recall: 0.9265 - val_auc: 0.9732 - val_loss: 0.2038\n",
      "Epoch 4/100\n",
      "173/173 [==============================] - 1s 9ms/step - recall: 0.9257 - loss: 0.1962 - auc: 0.9760 - precision: 0.9257 - accuracy: 0.9257 - val_precision: 0.9345 - val_accuracy: 0.9345 - val_recall: 0.9345 - val_auc: 0.9792 - val_loss: 0.1801\n",
      "Epoch 5/100\n",
      "173/173 [==============================] - 1s 8ms/step - recall: 0.9314 - loss: 0.1827 - auc: 0.9790 - precision: 0.9314 - accuracy: 0.9314 - val_precision: 0.9403 - val_accuracy: 0.9403 - val_recall: 0.9403 - val_auc: 0.9829 - val_loss: 0.1638\n",
      "Epoch 6/100\n",
      "173/173 [==============================] - 2s 9ms/step - recall: 0.9347 - loss: 0.1738 - auc: 0.9810 - precision: 0.9347 - accuracy: 0.9347 - val_precision: 0.9438 - val_accuracy: 0.9438 - val_recall: 0.9438 - val_auc: 0.9844 - val_loss: 0.1575\n",
      "Epoch 7/100\n",
      "173/173 [==============================] - 1s 8ms/step - recall: 0.9385 - loss: 0.1639 - auc: 0.9831 - precision: 0.9385 - accuracy: 0.9385 - val_precision: 0.9441 - val_accuracy: 0.9441 - val_recall: 0.9441 - val_auc: 0.9852 - val_loss: 0.1535\n",
      "Epoch 8/100\n",
      "173/173 [==============================] - 2s 10ms/step - recall: 0.9412 - loss: 0.1572 - auc: 0.9844 - precision: 0.9412 - accuracy: 0.9412 - val_precision: 0.9449 - val_accuracy: 0.9449 - val_recall: 0.9449 - val_auc: 0.9838 - val_loss: 0.1569\n",
      "Epoch 9/100\n",
      "173/173 [==============================] - 1s 8ms/step - recall: 0.9427 - loss: 0.1528 - auc: 0.9852 - precision: 0.9427 - accuracy: 0.9427 - val_precision: 0.9421 - val_accuracy: 0.9421 - val_recall: 0.9421 - val_auc: 0.9852 - val_loss: 0.1533\n",
      "Epoch 10/100\n",
      "173/173 [==============================] - 1s 8ms/step - recall: 0.9453 - loss: 0.1452 - auc: 0.9866 - precision: 0.9453 - accuracy: 0.9453 - val_precision: 0.9492 - val_accuracy: 0.9492 - val_recall: 0.9492 - val_auc: 0.9880 - val_loss: 0.1375\n",
      "Epoch 11/100\n",
      "173/173 [==============================] - 1s 8ms/step - recall: 0.9474 - loss: 0.1408 - auc: 0.9873 - precision: 0.9474 - accuracy: 0.9474 - val_precision: 0.9509 - val_accuracy: 0.9509 - val_recall: 0.9509 - val_auc: 0.9884 - val_loss: 0.1338\n",
      "Epoch 12/100\n",
      "173/173 [==============================] - 1s 8ms/step - recall: 0.9480 - loss: 0.1379 - auc: 0.9880 - precision: 0.9480 - accuracy: 0.9480 - val_precision: 0.9538 - val_accuracy: 0.9538 - val_recall: 0.9538 - val_auc: 0.9892 - val_loss: 0.1329\n",
      "Epoch 13/100\n",
      "173/173 [==============================] - 1s 8ms/step - recall: 0.9513 - loss: 0.1304 - auc: 0.9892 - precision: 0.9513 - accuracy: 0.9513 - val_precision: 0.9553 - val_accuracy: 0.9553 - val_recall: 0.9553 - val_auc: 0.9900 - val_loss: 0.1254\n",
      "Epoch 14/100\n",
      "173/173 [==============================] - 1s 8ms/step - recall: 0.9514 - loss: 0.1307 - auc: 0.9891 - precision: 0.9514 - accuracy: 0.9514 - val_precision: 0.9543 - val_accuracy: 0.9543 - val_recall: 0.9543 - val_auc: 0.9899 - val_loss: 0.1243\n",
      "Epoch 15/100\n",
      "173/173 [==============================] - 1s 8ms/step - recall: 0.9530 - loss: 0.1262 - auc: 0.9898 - precision: 0.9530 - accuracy: 0.9530 - val_precision: 0.9549 - val_accuracy: 0.9549 - val_recall: 0.9549 - val_auc: 0.9901 - val_loss: 0.1239\n",
      "Epoch 16/100\n",
      "173/173 [==============================] - 1s 8ms/step - recall: 0.9532 - loss: 0.1252 - auc: 0.9900 - precision: 0.9532 - accuracy: 0.9532 - val_precision: 0.9540 - val_accuracy: 0.9540 - val_recall: 0.9540 - val_auc: 0.9901 - val_loss: 0.1236\n",
      "Epoch 17/100\n",
      "173/173 [==============================] - 2s 9ms/step - recall: 0.9549 - loss: 0.1212 - auc: 0.9905 - precision: 0.9549 - accuracy: 0.9549 - val_precision: 0.9581 - val_accuracy: 0.9581 - val_recall: 0.9581 - val_auc: 0.9910 - val_loss: 0.1156\n",
      "Epoch 18/100\n",
      "173/173 [==============================] - 1s 8ms/step - recall: 0.9562 - loss: 0.1185 - auc: 0.9909 - precision: 0.9562 - accuracy: 0.9562 - val_precision: 0.9609 - val_accuracy: 0.9609 - val_recall: 0.9609 - val_auc: 0.9919 - val_loss: 0.1110\n",
      "Epoch 19/100\n",
      "173/173 [==============================] - 2s 9ms/step - recall: 0.9570 - loss: 0.1142 - auc: 0.9917 - precision: 0.9570 - accuracy: 0.9570 - val_precision: 0.9629 - val_accuracy: 0.9629 - val_recall: 0.9629 - val_auc: 0.9918 - val_loss: 0.1116\n",
      "Epoch 20/100\n",
      "173/173 [==============================] - 1s 8ms/step - recall: 0.9587 - loss: 0.1114 - auc: 0.9920 - precision: 0.9587 - accuracy: 0.9587 - val_precision: 0.9585 - val_accuracy: 0.9585 - val_recall: 0.9585 - val_auc: 0.9921 - val_loss: 0.1108\n",
      "Epoch 21/100\n",
      "173/173 [==============================] - 2s 11ms/step - recall: 0.9594 - loss: 0.1099 - auc: 0.9922 - precision: 0.9594 - accuracy: 0.9594 - val_precision: 0.9595 - val_accuracy: 0.9595 - val_recall: 0.9595 - val_auc: 0.9921 - val_loss: 0.1103\n",
      "Epoch 22/100\n",
      "173/173 [==============================] - 2s 10ms/step - recall: 0.9592 - loss: 0.1075 - auc: 0.9925 - precision: 0.9592 - accuracy: 0.9592 - val_precision: 0.9603 - val_accuracy: 0.9603 - val_recall: 0.9603 - val_auc: 0.9920 - val_loss: 0.1104\n",
      "Epoch 23/100\n",
      "173/173 [==============================] - 1s 8ms/step - recall: 0.9605 - loss: 0.1051 - auc: 0.9929 - precision: 0.9605 - accuracy: 0.9605 - val_precision: 0.9600 - val_accuracy: 0.9600 - val_recall: 0.9600 - val_auc: 0.9923 - val_loss: 0.1072\n",
      "Epoch 24/100\n",
      "173/173 [==============================] - 2s 9ms/step - recall: 0.9615 - loss: 0.1048 - auc: 0.9928 - precision: 0.9615 - accuracy: 0.9615 - val_precision: 0.9635 - val_accuracy: 0.9635 - val_recall: 0.9635 - val_auc: 0.9927 - val_loss: 0.1042\n",
      "Epoch 25/100\n",
      "173/173 [==============================] - 2s 11ms/step - recall: 0.9623 - loss: 0.1012 - auc: 0.9933 - precision: 0.9623 - accuracy: 0.9623 - val_precision: 0.9644 - val_accuracy: 0.9644 - val_recall: 0.9644 - val_auc: 0.9934 - val_loss: 0.1000\n",
      "Epoch 26/100\n",
      "173/173 [==============================] - 2s 9ms/step - recall: 0.9623 - loss: 0.1017 - auc: 0.9933 - precision: 0.9623 - accuracy: 0.9623 - val_precision: 0.9644 - val_accuracy: 0.9644 - val_recall: 0.9644 - val_auc: 0.9933 - val_loss: 0.1005\n",
      "Epoch 27/100\n",
      "173/173 [==============================] - 2s 10ms/step - recall: 0.9638 - loss: 0.0976 - auc: 0.9938 - precision: 0.9638 - accuracy: 0.9638 - val_precision: 0.9657 - val_accuracy: 0.9657 - val_recall: 0.9657 - val_auc: 0.9933 - val_loss: 0.0998\n",
      "Epoch 28/100\n",
      "173/173 [==============================] - 2s 10ms/step - recall: 0.9630 - loss: 0.0989 - auc: 0.9937 - precision: 0.9630 - accuracy: 0.9630 - val_precision: 0.9650 - val_accuracy: 0.9650 - val_recall: 0.9650 - val_auc: 0.9936 - val_loss: 0.0975\n",
      "Epoch 29/100\n",
      "173/173 [==============================] - 2s 9ms/step - recall: 0.9644 - loss: 0.0968 - auc: 0.9939 - precision: 0.9644 - accuracy: 0.9644 - val_precision: 0.9659 - val_accuracy: 0.9659 - val_recall: 0.9659 - val_auc: 0.9932 - val_loss: 0.1015\n",
      "Epoch 30/100\n",
      "173/173 [==============================] - 1s 8ms/step - recall: 0.9646 - loss: 0.0953 - auc: 0.9940 - precision: 0.9646 - accuracy: 0.9646 - val_precision: 0.9642 - val_accuracy: 0.9642 - val_recall: 0.9642 - val_auc: 0.9925 - val_loss: 0.1062\n",
      "Epoch 31/100\n",
      "173/173 [==============================] - 2s 10ms/step - recall: 0.9644 - loss: 0.0950 - auc: 0.9941 - precision: 0.9644 - accuracy: 0.9644 - val_precision: 0.9672 - val_accuracy: 0.9672 - val_recall: 0.9672 - val_auc: 0.9944 - val_loss: 0.0936\n",
      "Epoch 32/100\n",
      "173/173 [==============================] - 2s 9ms/step - recall: 0.9661 - loss: 0.0925 - auc: 0.9943 - precision: 0.9661 - accuracy: 0.9661 - val_precision: 0.9649 - val_accuracy: 0.9649 - val_recall: 0.9649 - val_auc: 0.9931 - val_loss: 0.1014\n"
     ]
    },
    {
     "name": "stdout",
     "output_type": "stream",
     "text": [
      "Epoch 33/100\n",
      "173/173 [==============================] - 1s 8ms/step - recall: 0.9657 - loss: 0.0917 - auc: 0.9945 - precision: 0.9657 - accuracy: 0.9657 - val_precision: 0.9672 - val_accuracy: 0.9672 - val_recall: 0.9672 - val_auc: 0.9937 - val_loss: 0.0957\n",
      "Epoch 34/100\n",
      "173/173 [==============================] - 1s 8ms/step - recall: 0.9665 - loss: 0.0909 - auc: 0.9946 - precision: 0.9665 - accuracy: 0.9665 - val_precision: 0.9660 - val_accuracy: 0.9660 - val_recall: 0.9660 - val_auc: 0.9939 - val_loss: 0.0951\n",
      "Epoch 35/100\n",
      "173/173 [==============================] - 1s 8ms/step - recall: 0.9666 - loss: 0.0896 - auc: 0.9947 - precision: 0.9666 - accuracy: 0.9666 - val_precision: 0.9659 - val_accuracy: 0.9659 - val_recall: 0.9659 - val_auc: 0.9940 - val_loss: 0.0947\n",
      "Epoch 36/100\n",
      "173/173 [==============================] - 2s 10ms/step - recall: 0.9675 - loss: 0.0873 - auc: 0.9950 - precision: 0.9675 - accuracy: 0.9675 - val_precision: 0.9672 - val_accuracy: 0.9672 - val_recall: 0.9672 - val_auc: 0.9940 - val_loss: 0.0942\n",
      "Epoch 37/100\n",
      "173/173 [==============================] - 1s 8ms/step - recall: 0.9677 - loss: 0.0872 - auc: 0.9950 - precision: 0.9677 - accuracy: 0.9677 - val_precision: 0.9702 - val_accuracy: 0.9702 - val_recall: 0.9702 - val_auc: 0.9946 - val_loss: 0.0897\n",
      "Epoch 38/100\n",
      "173/173 [==============================] - 1s 8ms/step - recall: 0.9694 - loss: 0.0832 - auc: 0.9955 - precision: 0.9694 - accuracy: 0.9694 - val_precision: 0.9687 - val_accuracy: 0.9687 - val_recall: 0.9687 - val_auc: 0.9939 - val_loss: 0.0931\n",
      "Epoch 39/100\n",
      "173/173 [==============================] - 2s 9ms/step - recall: 0.9688 - loss: 0.0857 - auc: 0.9951 - precision: 0.9688 - accuracy: 0.9688 - val_precision: 0.9678 - val_accuracy: 0.9678 - val_recall: 0.9678 - val_auc: 0.9940 - val_loss: 0.0931\n",
      "Epoch 40/100\n",
      "173/173 [==============================] - 1s 8ms/step - recall: 0.9694 - loss: 0.0842 - auc: 0.9953 - precision: 0.9694 - accuracy: 0.9694 - val_precision: 0.9681 - val_accuracy: 0.9681 - val_recall: 0.9681 - val_auc: 0.9944 - val_loss: 0.0889\n",
      "Epoch 41/100\n",
      "173/173 [==============================] - 1s 9ms/step - recall: 0.9697 - loss: 0.0836 - auc: 0.9953 - precision: 0.9697 - accuracy: 0.9697 - val_precision: 0.9692 - val_accuracy: 0.9692 - val_recall: 0.9692 - val_auc: 0.9941 - val_loss: 0.0903\n",
      "Epoch 42/100\n",
      "173/173 [==============================] - 1s 8ms/step - recall: 0.9698 - loss: 0.0834 - auc: 0.9954 - precision: 0.9698 - accuracy: 0.9698 - val_precision: 0.9704 - val_accuracy: 0.9704 - val_recall: 0.9704 - val_auc: 0.9950 - val_loss: 0.0856\n",
      "Epoch 43/100\n",
      "173/173 [==============================] - 1s 9ms/step - recall: 0.9700 - loss: 0.0823 - auc: 0.9955 - precision: 0.9700 - accuracy: 0.9700 - val_precision: 0.9689 - val_accuracy: 0.9689 - val_recall: 0.9689 - val_auc: 0.9945 - val_loss: 0.0890\n",
      "Epoch 44/100\n",
      "173/173 [==============================] - 2s 9ms/step - recall: 0.9705 - loss: 0.0811 - auc: 0.9956 - precision: 0.9705 - accuracy: 0.9705 - val_precision: 0.9716 - val_accuracy: 0.9716 - val_recall: 0.9716 - val_auc: 0.9951 - val_loss: 0.0831\n",
      "Epoch 45/100\n",
      "173/173 [==============================] - 1s 8ms/step - recall: 0.9702 - loss: 0.0809 - auc: 0.9957 - precision: 0.9702 - accuracy: 0.9702 - val_precision: 0.9675 - val_accuracy: 0.9675 - val_recall: 0.9675 - val_auc: 0.9951 - val_loss: 0.0859\n",
      "Epoch 46/100\n",
      "173/173 [==============================] - 2s 9ms/step - recall: 0.9702 - loss: 0.0809 - auc: 0.9956 - precision: 0.9702 - accuracy: 0.9702 - val_precision: 0.9665 - val_accuracy: 0.9665 - val_recall: 0.9665 - val_auc: 0.9934 - val_loss: 0.0970\n",
      "Epoch 47/100\n",
      "173/173 [==============================] - 1s 9ms/step - recall: 0.9703 - loss: 0.0811 - auc: 0.9956 - precision: 0.9703 - accuracy: 0.9703 - val_precision: 0.9712 - val_accuracy: 0.9712 - val_recall: 0.9712 - val_auc: 0.9948 - val_loss: 0.0857\n",
      "Epoch 48/100\n",
      "173/173 [==============================] - 2s 9ms/step - recall: 0.9711 - loss: 0.0788 - auc: 0.9958 - precision: 0.9711 - accuracy: 0.9711 - val_precision: 0.9707 - val_accuracy: 0.9707 - val_recall: 0.9707 - val_auc: 0.9954 - val_loss: 0.0823\n",
      "Epoch 49/100\n",
      "173/173 [==============================] - 2s 9ms/step - recall: 0.9713 - loss: 0.0790 - auc: 0.9958 - precision: 0.9713 - accuracy: 0.9713 - val_precision: 0.9692 - val_accuracy: 0.9692 - val_recall: 0.9692 - val_auc: 0.9945 - val_loss: 0.0885\n",
      "Epoch 50/100\n",
      "173/173 [==============================] - 2s 10ms/step - recall: 0.9719 - loss: 0.0775 - auc: 0.9959 - precision: 0.9719 - accuracy: 0.9719 - val_precision: 0.9713 - val_accuracy: 0.9713 - val_recall: 0.9713 - val_auc: 0.9952 - val_loss: 0.0825\n",
      "Epoch 51/100\n",
      "173/173 [==============================] - 1s 9ms/step - recall: 0.9722 - loss: 0.0764 - auc: 0.9961 - precision: 0.9722 - accuracy: 0.9722 - val_precision: 0.9703 - val_accuracy: 0.9703 - val_recall: 0.9703 - val_auc: 0.9952 - val_loss: 0.0829\n",
      "Epoch 52/100\n",
      "173/173 [==============================] - 2s 10ms/step - recall: 0.9721 - loss: 0.0772 - auc: 0.9960 - precision: 0.9721 - accuracy: 0.9721 - val_precision: 0.9725 - val_accuracy: 0.9725 - val_recall: 0.9725 - val_auc: 0.9952 - val_loss: 0.0819\n",
      "Epoch 53/100\n",
      "173/173 [==============================] - 1s 8ms/step - recall: 0.9726 - loss: 0.0750 - auc: 0.9962 - precision: 0.9726 - accuracy: 0.9726 - val_precision: 0.9727 - val_accuracy: 0.9727 - val_recall: 0.9727 - val_auc: 0.9952 - val_loss: 0.0817\n",
      "Epoch 54/100\n",
      "173/173 [==============================] - 1s 8ms/step - recall: 0.9725 - loss: 0.0759 - auc: 0.9961 - precision: 0.9725 - accuracy: 0.9725 - val_precision: 0.9733 - val_accuracy: 0.9733 - val_recall: 0.9733 - val_auc: 0.9952 - val_loss: 0.0813\n",
      "Epoch 55/100\n",
      "173/173 [==============================] - 2s 10ms/step - recall: 0.9733 - loss: 0.0728 - auc: 0.9964 - precision: 0.9733 - accuracy: 0.9733 - val_precision: 0.9730 - val_accuracy: 0.9730 - val_recall: 0.9730 - val_auc: 0.9953 - val_loss: 0.0810\n",
      "Epoch 56/100\n",
      "173/173 [==============================] - 1s 8ms/step - recall: 0.9734 - loss: 0.0729 - auc: 0.9964 - precision: 0.9734 - accuracy: 0.9734 - val_precision: 0.9718 - val_accuracy: 0.9718 - val_recall: 0.9718 - val_auc: 0.9950 - val_loss: 0.0831\n",
      "Epoch 57/100\n",
      "173/173 [==============================] - 2s 11ms/step - recall: 0.9734 - loss: 0.0724 - auc: 0.9964 - precision: 0.9734 - accuracy: 0.9734 - val_precision: 0.9732 - val_accuracy: 0.9732 - val_recall: 0.9732 - val_auc: 0.9950 - val_loss: 0.0811\n",
      "Epoch 58/100\n",
      "173/173 [==============================] - 2s 9ms/step - recall: 0.9741 - loss: 0.0718 - auc: 0.9965 - precision: 0.9741 - accuracy: 0.9741 - val_precision: 0.9730 - val_accuracy: 0.9730 - val_recall: 0.9730 - val_auc: 0.9949 - val_loss: 0.0836\n",
      "Epoch 59/100\n",
      "173/173 [==============================] - 2s 11ms/step - recall: 0.9737 - loss: 0.0721 - auc: 0.9965 - precision: 0.9737 - accuracy: 0.9737 - val_precision: 0.9704 - val_accuracy: 0.9704 - val_recall: 0.9704 - val_auc: 0.9953 - val_loss: 0.0827\n",
      "Epoch 60/100\n",
      "173/173 [==============================] - 1s 8ms/step - recall: 0.9737 - loss: 0.0721 - auc: 0.9965 - precision: 0.9737 - accuracy: 0.9737 - val_precision: 0.9741 - val_accuracy: 0.9741 - val_recall: 0.9741 - val_auc: 0.9951 - val_loss: 0.0809\n",
      "Epoch 61/100\n",
      "173/173 [==============================] - 2s 10ms/step - recall: 0.9744 - loss: 0.0701 - auc: 0.9967 - precision: 0.9744 - accuracy: 0.9744 - val_precision: 0.9728 - val_accuracy: 0.9728 - val_recall: 0.9728 - val_auc: 0.9956 - val_loss: 0.0770\n",
      "Epoch 62/100\n",
      "173/173 [==============================] - 1s 8ms/step - recall: 0.9754 - loss: 0.0684 - auc: 0.9968 - precision: 0.9754 - accuracy: 0.9754 - val_precision: 0.9735 - val_accuracy: 0.9735 - val_recall: 0.9735 - val_auc: 0.9959 - val_loss: 0.0759\n",
      "Epoch 63/100\n",
      "173/173 [==============================] - 1s 8ms/step - recall: 0.9751 - loss: 0.0683 - auc: 0.9968 - precision: 0.9751 - accuracy: 0.9751 - val_precision: 0.9717 - val_accuracy: 0.9717 - val_recall: 0.9717 - val_auc: 0.9947 - val_loss: 0.0840\n",
      "Epoch 64/100\n",
      "173/173 [==============================] - 2s 9ms/step - recall: 0.9755 - loss: 0.0686 - auc: 0.9967 - precision: 0.9755 - accuracy: 0.9755 - val_precision: 0.9733 - val_accuracy: 0.9733 - val_recall: 0.9733 - val_auc: 0.9952 - val_loss: 0.0802\n"
     ]
    },
    {
     "name": "stdout",
     "output_type": "stream",
     "text": [
      "Epoch 65/100\n",
      "173/173 [==============================] - 2s 9ms/step - recall: 0.9750 - loss: 0.0696 - auc: 0.9966 - precision: 0.9750 - accuracy: 0.9750 - val_precision: 0.9727 - val_accuracy: 0.9727 - val_recall: 0.9727 - val_auc: 0.9952 - val_loss: 0.0816\n",
      "Epoch 66/100\n",
      "173/173 [==============================] - 1s 8ms/step - recall: 0.9748 - loss: 0.0700 - auc: 0.9966 - precision: 0.9748 - accuracy: 0.9748 - val_precision: 0.9738 - val_accuracy: 0.9738 - val_recall: 0.9738 - val_auc: 0.9950 - val_loss: 0.0803\n",
      "Epoch 67/100\n",
      "173/173 [==============================] - 1s 8ms/step - recall: 0.9760 - loss: 0.0672 - auc: 0.9969 - precision: 0.9760 - accuracy: 0.9760 - val_precision: 0.9737 - val_accuracy: 0.9737 - val_recall: 0.9737 - val_auc: 0.9949 - val_loss: 0.0816\n",
      "Epoch 68/100\n",
      "173/173 [==============================] - 2s 9ms/step - recall: 0.9752 - loss: 0.0685 - auc: 0.9968 - precision: 0.9752 - accuracy: 0.9752 - val_precision: 0.9747 - val_accuracy: 0.9747 - val_recall: 0.9747 - val_auc: 0.9953 - val_loss: 0.0793\n",
      "Epoch 69/100\n",
      "173/173 [==============================] - 2s 9ms/step - recall: 0.9758 - loss: 0.0668 - auc: 0.9970 - precision: 0.9758 - accuracy: 0.9758 - val_precision: 0.9735 - val_accuracy: 0.9735 - val_recall: 0.9735 - val_auc: 0.9953 - val_loss: 0.0795\n",
      "Epoch 70/100\n",
      "173/173 [==============================] - 1s 8ms/step - recall: 0.9760 - loss: 0.0665 - auc: 0.9969 - precision: 0.9760 - accuracy: 0.9760 - val_precision: 0.9730 - val_accuracy: 0.9730 - val_recall: 0.9730 - val_auc: 0.9949 - val_loss: 0.0819\n",
      "Epoch 71/100\n",
      "173/173 [==============================] - 1s 9ms/step - recall: 0.9756 - loss: 0.0669 - auc: 0.9970 - precision: 0.9756 - accuracy: 0.9756 - val_precision: 0.9756 - val_accuracy: 0.9756 - val_recall: 0.9756 - val_auc: 0.9953 - val_loss: 0.0781\n",
      "Epoch 72/100\n",
      "173/173 [==============================] - 2s 9ms/step - recall: 0.9750 - loss: 0.0678 - auc: 0.9969 - precision: 0.9750 - accuracy: 0.9750 - val_precision: 0.9727 - val_accuracy: 0.9727 - val_recall: 0.9727 - val_auc: 0.9937 - val_loss: 0.0899\n"
     ]
    }
   ],
   "source": [
    "es = EarlyStopping(monitor='val_loss', mode='min', patience=10) # , patience=5\n",
    "mc = ModelCheckpoint('best_model.h5', monitor='val_loss', mode='min', save_best_only=True)\n",
    "\n",
    "\n",
    "history = model.fit(X_train, y_train, \n",
    "                    batch_size=512, \n",
    "                    epochs=100,\n",
    "                    validation_split=0.1, callbacks=[es])\n",
    "#callbacks=[es, mc]\n",
    "result = model.predict(X_test)"
   ]
  },
  {
   "cell_type": "code",
   "execution_count": 27,
   "id": "39c2d776",
   "metadata": {},
   "outputs": [
    {
     "data": {
      "image/png": "[encoded data removed]",
      "text/plain": [
       "<Figure size 432x288 with 1 Axes>"
      ]
     },
     "metadata": {
      "needs_background": "light"
     },
     "output_type": "display_data"
    },
    {
     "data": {
      "image/png": "[encoded data removed]",
      "text/plain": [
       "<Figure size 432x288 with 1 Axes>"
      ]
     },
     "metadata": {
      "needs_background": "light"
     },
     "output_type": "display_data"
    },
    {
     "data": {
      "image/png": "[encoded data removed]",
      "text/plain": [
       "<Figure size 432x288 with 1 Axes>"
      ]
     },
     "metadata": {
      "needs_background": "light"
     },
     "output_type": "display_data"
    },
    {
     "data": {
      "text/plain": [
       "<Figure size 432x288 with 0 Axes>"
      ]
     },
     "metadata": {},
     "output_type": "display_data"
    }
   ],
   "source": [
    "acc = history.history['accuracy']\n",
    "val_acc = history.history['val_accuracy']\n",
    "loss = history.history['loss']\n",
    "val_loss = history.history['val_loss']\n",
    "\n",
    "recall = history.history['recall']\n",
    "val_recall = history.history['val_recall']\n",
    "\n",
    "\n",
    "\n",
    "epochs = range(1, len(acc) + 1)\n",
    "\n",
    "plt.plot(epochs, acc, 'bo', label='Training acc')\n",
    "plt.plot(epochs, val_acc, 'b', label='Validation acc')\n",
    "plt.title('Training validation accuracy')\n",
    "plt.legend()\n",
    "\n",
    "plt.figure()\n",
    "\n",
    "plt.plot(epochs, loss, 'bo', label='Training loss')\n",
    "plt.plot(epochs, val_loss, 'b', label='Validation loss')\n",
    "plt.title('Training and validation loss')\n",
    "plt.legend()\n",
    "\n",
    "plt.figure()\n",
    "\n",
    "plt.plot(epochs, recall, 'bo', label='Training recall')\n",
    "plt.plot(epochs, val_recall, 'b', label='Validation recall')\n",
    "plt.title('Training and validation recall')\n",
    "plt.legend()\n",
    "\n",
    "plt.figure()\n",
    "\n",
    "# plt.plot(epochs, precision, 'bo', label='Training precision')\n",
    "# plt.plot(epochs, val_precision, 'b', label='Validation precision')\n",
    "# plt.title('Training and validation precision')\n",
    "# plt.legend()\n",
    "\n",
    "# plt.figure()\n",
    "\n",
    "\n",
    "plt.show()"
   ]
  },
  {
   "cell_type": "code",
   "execution_count": 122,
   "id": "b885c5f0",
   "metadata": {},
   "outputs": [],
   "source": [
    "# import sklearn.metrics as metrics\n",
    "# # calculate the fpr and tpr for all thresholds of the classification\n",
    "# probs = model.predict_proba(X_test)\n",
    "# preds = probs[:,1]\n",
    "# fpr, tpr, threshold = metrics.roc_curve(y_test, preds)\n",
    "# roc_auc = metrics.auc(fpr, tpr)\n",
    "\n",
    "# # method I: plt\n",
    "# import matplotlib.pyplot as plt\n",
    "# plt.title('AUC')\n",
    "# plt.plot(fpr, tpr, 'b', label = 'AUC = %0.2f' % roc_auc)\n",
    "# plt.legend(loc = 'lower right')\n",
    "# plt.plot([0, 1], [0, 1],'r--')\n",
    "# plt.xlim([0, 1])\n",
    "# plt.ylim([0, 1])\n",
    "# plt.ylabel('True Positive Rate')\n",
    "# plt.xlabel('False Positive Rate')\n",
    "# plt.show()"
   ]
  },
  {
   "cell_type": "code",
   "execution_count": 28,
   "id": "b2485ab3",
   "metadata": {},
   "outputs": [
    {
     "name": "stdout",
     "output_type": "stream",
     "text": [
      "initial value of conf_M:  [[0, 0], [0, 0]]\n",
      "conf_M:  [[5505, 178], [126, 5182]]\n",
      "activity:OtherSound,Speaking\n",
      "OtherSound , 5505,178\n",
      "Speaking , 126,5182\n",
      "\n",
      "activity:OtherSound,Speaking\n",
      "OtherSound , 0.97,0.03\n",
      "Speaking , 0.02,0.98\n",
      "\n",
      "label 개수:  2\n"
     ]
    }
   ],
   "source": [
    "showResult()# 실제값, 예측값\n",
    "# conf_M의 [0][0]: 실제값과 예측값 모두 0인 횟수\n",
    "# conf_M의 [1][1]: 실제값과 예측값 모두 1인 횟수\n"
   ]
  },
  {
   "cell_type": "code",
   "execution_count": 29,
   "id": "1d3c4b84",
   "metadata": {},
   "outputs": [
    {
     "name": "stdout",
     "output_type": "stream",
     "text": [
      "Accuracy: 97.23%\n"
     ]
    }
   ],
   "source": [
    "cnt = 0\n",
    "\n",
    "for i in range(len(y_test)):\n",
    "    if(np.amax(result[i])<0.5):\n",
    "#       pred = 11\n",
    "        pred = np.argmax(result[i])\n",
    "    else:\n",
    "        pred = np.argmax(result[i])\n",
    "    if np.argmax(y_test[i])==pred:\n",
    "        cnt+=1\n",
    "\n",
    "acc = str(round(cnt*100/float(len(y_test)),2))\n",
    "print(\"Accuracy: \" + acc + \"%\")"
   ]
  },
  {
   "cell_type": "code",
   "execution_count": 30,
   "id": "73a6bee2",
   "metadata": {},
   "outputs": [],
   "source": [
    "## save model (optional)\n",
    "path = \"audio_model/\"\n",
    "model_json = model.to_json()\n",
    "with open(path+\"audio_NN_New\"+datetime.datetime.now().strftime('%Y_%m_%d_%H_%M_%S') + \"_acc_\"+acc+\".json\", \"w\") as json_file:\n",
    "    json_file.write(model_json)\n",
    "# serialize weights to HDF5\n",
    "model.save_weights(path+\"audio_NN_New\"+datetime.datetime.now().strftime('%Y_%m_%d_%H_%M_%S') + \"_acc_\"+acc+\".h5\")"
   ]
  },
  {
   "cell_type": "code",
   "execution_count": null,
   "id": "f9511df0",
   "metadata": {},
   "outputs": [],
   "source": []
  }
 ],
 "metadata": {
  "kernelspec": {
   "display_name": "venv3.5",
   "language": "python",
   "name": "venv3.5"
  },
  "language_info": {
   "codemirror_mode": {
    "name": "ipython",
    "version": 3
   },
   "file_extension": ".py",
   "mimetype": "text/x-python",
   "name": "python",
   "nbconvert_exporter": "python",
   "pygments_lexer": "ipython3",
   "version": "3.5.2"
  }
 },
 "nbformat": 4,
 "nbformat_minor": 5
}
