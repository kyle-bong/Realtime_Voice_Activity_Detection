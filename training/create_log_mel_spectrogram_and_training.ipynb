{
 "cells": [
  {
   "cell_type": "markdown",
   "id": "83d711c1",
   "metadata": {},
   "source": [
    "# Extracting log mel spectrogram\n",
    "오디오 데이터에서 log mel spectrogram을 추출합니다."
   ]
  },
  {
   "cell_type": "code",
   "execution_count": 1,
   "id": "8bd4fd22",
   "metadata": {},
   "outputs": [],
   "source": [
    "import librosa\n",
    "import librosa.display\n",
    "import os\n",
    "import numpy as np\n",
    "from tqdm import tqdm\n",
    "import noisereduce as nr\n",
    "import pathlib\n",
    "import matplotlib.pyplot as plt\n",
    "import datetime"
   ]
  },
  {
   "cell_type": "code",
   "execution_count": 2,
   "id": "8513561c",
   "metadata": {},
   "outputs": [],
   "source": [
    "# normalization\n",
    "def minMaxNormalize(arr):\n",
    "    mn = np.min(arr)\n",
    "    mx = np.max(arr)\n",
    "    return (arr-mn)/(mx-mn)"
   ]
  },
  {
   "cell_type": "code",
   "execution_count": 3,
   "id": "83369503",
   "metadata": {},
   "outputs": [],
   "source": [
    "def get_spectrograms(path, file, category):\n",
    "    \n",
    "    # load audio file\n",
    "    y, sr = librosa.load(os.path.join(path, file), sr=16000)\n",
    "\n",
    "    # extract log mel spectrogram\n",
    "    ps = librosa.feature.melspectrogram(y=y, sr=16000, n_fft=512, hop_length=256, win_length=512)\n",
    "    ps_db = librosa.power_to_db(ps, ref=np.max)\n",
    "    if ps_db.shape == (128, 17):\n",
    "        np.save(r\"Spec_features/\" + \"_\" + file + '_'+ category + \".npy\", ps_db)\n",
    "\n",
    "\n",
    "categories = ['OtherSound', 'Speaking']\n",
    "augs = ['Mixed', 'Reduced', 'sliced']\n",
    "\n",
    "basic_path = r'../Dataset_audio'\n",
    "\n",
    "for category in os.listdir(basic_path):\n",
    "    if category in categories:\n",
    "        for aug in os.listdir(basic_path + '/' + category):\n",
    "            if aug in augs:\n",
    "                for file in os.listdir(basic_path + '/' +category + '/' +aug):\n",
    "                    if file.endswith('.wav') | file.endswith('.WAV'):\n",
    "                        get_spectrograms(basic_path + '/' +category + '/' +aug, file, category)"
   ]
  },
  {
   "cell_type": "markdown",
   "id": "5affc6bc",
   "metadata": {},
   "source": [
    "# Model"
   ]
  },
  {
   "cell_type": "code",
   "execution_count": 5,
   "id": "e115af6f",
   "metadata": {},
   "outputs": [],
   "source": [
    "import tensorflow as tf\n",
    "from tensorflow.keras.applications.vgg16 import VGG16\n",
    "from tensorflow.keras.applications.vgg16 import preprocess_input\n",
    "from tensorflow.keras.models import Model, Sequential\n",
    "from tensorflow.keras.preprocessing.image import ImageDataGenerator\n",
    "from tensorflow.keras.optimizers import Adam\n",
    "from tensorflow.keras.layers import Dense, Conv2D, MaxPool2D , Flatten, Activation, MaxPooling2D, Dropout\n",
    "from tensorflow.keras.losses import categorical_crossentropy\n",
    "from tensorflow.keras.callbacks import ModelCheckpoint, EarlyStopping\n",
    "from tensorflow.keras import metrics\n",
    "from sklearn.preprocessing import LabelEncoder\n",
    "from sklearn.model_selection import train_test_split\n",
    "from sklearn.utils import class_weight\n",
    "from collections import Counter\n",
    "from keras.utils import np_utils\n",
    "from keras.utils.np_utils import to_categorical\n",
    "import matplotlib.pyplot as plt\n",
    "from tensorflow.keras import optimizers\n",
    "\n",
    "from sklearn.utils import class_weight\n",
    "from collections import Counter\n"
   ]
  },
  {
   "cell_type": "code",
   "execution_count": 6,
   "id": "908f8e40",
   "metadata": {},
   "outputs": [],
   "source": [
    "def get_data(path, sampleSize):\n",
    "    \n",
    "    #Category\n",
    "    OtherSound = 'OtherSound'\n",
    "    Speaking = 'Speaking'\n",
    "    \n",
    "    X = []\n",
    "    y = []\n",
    "    \n",
    "    \n",
    "    for file in os.listdir(path):\n",
    "        \n",
    "        a = (np.load(path + \"/\" + file)).T\n",
    "        a = np.nan_to_num(a, copy=False)\n",
    "        a = np.mean(a, axis=0) # 각 시간별 값의 평균을 냄.\n",
    "        \n",
    "        # Normalizing\n",
    "        a = minMaxNormalize(a)\n",
    "        a = np.reshape(a, (1, 16, 8))\n",
    "\n",
    "        label = file.split('_')[-1].split(\".\")[0]\n",
    "        if label == OtherSound:\n",
    "#             print(file, 'It is OtherSound file')\n",
    "            label=\"OtherSound\"\n",
    "            X.append(a)\n",
    "            y.append(label)\n",
    "\n",
    "        elif label == Speaking:\n",
    "#             print(file, 'It is Speaking file')\n",
    "            label=\"Speaking\"\n",
    "            X.append(a)\n",
    "            y.append(label)\n",
    "\n",
    "\n",
    "    X_train, X_test, y_train, y_test = train_test_split(X, y, test_size=0.1, shuffle = True, random_state=123)\n",
    "    \n",
    "    X_train = np.array(X_train)\n",
    "    y_train = np.array(y_train)\n",
    "    X_test = np.array(X_test)\n",
    "    y_test = np.array(y_test)\n",
    "    \n",
    "    X_train = np.nan_to_num(X_train, copy=False)\n",
    "    y_train = np.nan_to_num(y_train, copy=False)\n",
    "    X_test = np.nan_to_num(X_test, copy=False)\n",
    "    y_test = np.nan_to_num(y_test, copy=False)\n",
    "    \n",
    "    # delete overlap\n",
    "    X_train, overlap_index = np.unique(X_train, axis=0, return_index=True)\n",
    "    y_train = y_train[overlap_index]\n",
    "\n",
    "    X_test, overlap_index = np.unique(X_test, axis=0, return_index=True)\n",
    "    y_test = y_test[overlap_index]\n",
    "\n",
    "    \n",
    "    return X_train, y_train, X_test, y_test"
   ]
  },
  {
   "cell_type": "code",
   "execution_count": 7,
   "id": "9dd8361e",
   "metadata": {},
   "outputs": [
    {
     "name": "stderr",
     "output_type": "stream",
     "text": [
      "/home/bongseok/venv3.5/lib/python3.5/site-packages/ipykernel_launcher.py:4: RuntimeWarning: invalid value encountered in true_divide\n",
      "  after removing the cwd from sys.path.\n"
     ]
    }
   ],
   "source": [
    "featuresPath = \"/home/bongseok/Desktop/speaking_detector/Spec_features\"\n",
    "\n",
    "X_train, y_train, X_test, y_test = get_data(featuresPath, 250) # 학습데이터 구축, samplesize=250"
   ]
  },
  {
   "cell_type": "code",
   "execution_count": 8,
   "id": "bffcfba5",
   "metadata": {},
   "outputs": [
    {
     "name": "stdout",
     "output_type": "stream",
     "text": [
      "Num of training samples: 237499\n"
     ]
    }
   ],
   "source": [
    "n_samples = len(y_train)\n",
    "print(\"Num of training samples: \" + str(n_samples))\n",
    "order = np.array(range(n_samples))\n",
    "np.random.shuffle(order)\n",
    "X_train = X_train[order]\n",
    "y_train = y_train[order]\n",
    "\n",
    "lb = LabelEncoder() # inverse_transform: Transform labels back to original encoding\n",
    "y_train = np_utils.to_categorical(lb.fit_transform(y_train)) # fit_transform: Fit label encoder and return encoded labels\n",
    "y_test = np_utils.to_categorical(lb.fit_transform(y_test))\n",
    "num_labels = y_train.shape[1]\n",
    "\n",
    "\n",
    "#lb.inverse_transform([y_train[0]])[0]"
   ]
  },
  {
   "cell_type": "code",
   "execution_count": 16,
   "id": "fd865575",
   "metadata": {},
   "outputs": [
    {
     "name": "stdout",
     "output_type": "stream",
     "text": [
      "Num of training samples: 237499\n"
     ]
    }
   ],
   "source": [
    "n_samples = len(y_train)\n",
    "print(\"Num of training samples: \" + str(n_samples))\n",
    "order = np.array(range(n_samples))\n",
    "np.random.shuffle(order)\n",
    "X_train = X_train[order]\n",
    "y_train = y_train[order]"
   ]
  },
  {
   "cell_type": "code",
   "execution_count": 17,
   "id": "af7f54e8",
   "metadata": {
    "scrolled": false
   },
   "outputs": [
    {
     "name": "stdout",
     "output_type": "stream",
     "text": [
      "42090 45317\n"
     ]
    }
   ],
   "source": [
    "# train set에서 speaking, othersound 의 데이터 개수가 잘 맞는지 확인합니다.\n",
    "oth_count = 0\n",
    "spe_count = 0\n",
    "for i in y_train:\n",
    "    if i[0] == 0.:\n",
    "        oth_count +=1\n",
    "    elif i[0] == 1.:\n",
    "        spe_count +=1\n",
    "print(oth_count, spe_count)"
   ]
  },
  {
   "cell_type": "code",
   "execution_count": 18,
   "id": "0220e2b4",
   "metadata": {
    "scrolled": true
   },
   "outputs": [
    {
     "name": "stdout",
     "output_type": "stream",
     "text": [
      "4714 5128\n"
     ]
    }
   ],
   "source": [
    "oth_count = 0\n",
    "spe_count = 0\n",
    "for i in y_test:\n",
    "    if i[0] == 0.:\n",
    "        oth_count +=1\n",
    "    elif i[0] == 1.:\n",
    "        spe_count +=1\n",
    "print(oth_count, spe_count)"
   ]
  },
  {
   "cell_type": "code",
   "execution_count": 19,
   "id": "8e2fe4c2",
   "metadata": {},
   "outputs": [],
   "source": [
    "# Check Nan or Inf\n",
    "for i in X_train:\n",
    "    if np.isfinite(i.any()) == False:\n",
    "        print('false')"
   ]
  },
  {
   "cell_type": "code",
   "execution_count": 20,
   "id": "f57a5c1b",
   "metadata": {},
   "outputs": [],
   "source": [
    "for i in X_test:\n",
    "    if np.isfinite(i.any()) == False:\n",
    "        print('false')"
   ]
  },
  {
   "cell_type": "code",
   "execution_count": 21,
   "id": "572f44ce",
   "metadata": {},
   "outputs": [
    {
     "name": "stdout",
     "output_type": "stream",
     "text": [
      "1\n",
      "1\n"
     ]
    }
   ],
   "source": [
    "print(len(X_test[2]))\n",
    "print(len(X_test[3]))"
   ]
  },
  {
   "cell_type": "code",
   "execution_count": 46,
   "id": "d7f0aa5b",
   "metadata": {},
   "outputs": [
    {
     "name": "stdout",
     "output_type": "stream",
     "text": [
      "Model: \"sequential_6\"\n",
      "_________________________________________________________________\n",
      "Layer (type)                 Output Shape              Param #   \n",
      "=================================================================\n",
      "conv2d_15 (Conv2D)           (None, 1, 16, 128)        8320      \n",
      "_________________________________________________________________\n",
      "activation_21 (Activation)   (None, 1, 16, 128)        0         \n",
      "_________________________________________________________________\n",
      "max_pooling2d_15 (MaxPooling (None, 1, 8, 128)         0         \n",
      "_________________________________________________________________\n",
      "conv2d_16 (Conv2D)           (None, 1, 8, 128)         131200    \n",
      "_________________________________________________________________\n",
      "activation_22 (Activation)   (None, 1, 8, 128)         0         \n",
      "_________________________________________________________________\n",
      "max_pooling2d_16 (MaxPooling (None, 1, 4, 128)         0         \n",
      "_________________________________________________________________\n",
      "conv2d_17 (Conv2D)           (None, 1, 4, 128)         131200    \n",
      "_________________________________________________________________\n",
      "activation_23 (Activation)   (None, 1, 4, 128)         0         \n",
      "_________________________________________________________________\n",
      "max_pooling2d_17 (MaxPooling (None, 1, 2, 128)         0         \n",
      "_________________________________________________________________\n",
      "dropout_6 (Dropout)          (None, 1, 2, 128)         0         \n",
      "_________________________________________________________________\n",
      "flatten_6 (Flatten)          (None, 256)               0         \n",
      "_________________________________________________________________\n",
      "dense_12 (Dense)             (None, 128)               32896     \n",
      "_________________________________________________________________\n",
      "activation_24 (Activation)   (None, 128)               0         \n",
      "_________________________________________________________________\n",
      "dense_13 (Dense)             (None, 2)                 258       \n",
      "=================================================================\n",
      "Total params: 303,874\n",
      "Trainable params: 303,874\n",
      "Non-trainable params: 0\n",
      "_________________________________________________________________\n"
     ]
    }
   ],
   "source": [
    "# build model\n",
    "# 128 mel\n",
    "# 168 X 8로 reshape\n",
    "\n",
    "# 2D convolutional layer (4 X 2 filter)\n",
    "# 2 X 2 max-pooling\n",
    "# 0.2 dropout\n",
    "# relu\n",
    "\n",
    "# 2D convolutional layer (4 X 2 filter)\n",
    "# 2 X 2 max-pooling\n",
    "# 0.2 dropout\n",
    "# relu\n",
    "\n",
    "# flatten\n",
    "\n",
    "# dense layer(128)\n",
    "# dense layer(2, softmax, adam)\n",
    "\n",
    "# rate=0.001, epoch=30\n",
    "opt = optimizers.Adam(learning_rate=0.0005)\n",
    "\n",
    "metrics = [#tf.keras.metrics.TruePositives(name='TP'),\n",
    "           #tf.keras.metrics.FalsePositives(name='FP'),\n",
    "           #tf.keras.metrics.TrueNegatives(name='TN'),\n",
    "           #tf.keras.metrics.FalseNegatives(name='FN'),\n",
    "           tf.keras.metrics.BinaryAccuracy(name='accuracy'),\n",
    "           tf.keras.metrics.Precision(name='precision'),\n",
    "           tf.keras.metrics.Recall(name='recall')]\n",
    "#tf.keras.metrics.AUC(name='auc')]\n",
    "\n",
    "\n",
    "\n",
    "model = Sequential()\n",
    "model.add(Conv2D(128, (4, 2), padding='same',\n",
    "                 input_shape=(1, 16, 8)))\n",
    "model.add(Activation('relu'))\n",
    "model.add(MaxPooling2D(pool_size=(2, 2), padding='same'))\n",
    "\n",
    "\n",
    "model.add(Conv2D(128, (4, 2), padding='same'))\n",
    "model.add(Activation('relu'))\n",
    "model.add(MaxPooling2D(pool_size=(2, 2), padding='same'))\n",
    "\n",
    "    \n",
    "model.add(Conv2D(128, (4, 2), padding='same'))\n",
    "model.add(Activation('relu'))\n",
    "model.add(MaxPooling2D(pool_size=(2, 2), padding='same'))\n",
    "model.add(Dropout(0.30))\n",
    "\n",
    "model.add(Flatten())\n",
    "\n",
    "model.add(Dense(128, input_shape=(512,)))\n",
    "model.add(Activation('relu'))\n",
    "\n",
    "model.add(Dense(2, activation='softmax'))\n",
    "model.compile(loss='binary_crossentropy', metrics=metrics, optimizer=opt)\n",
    "\n",
    "\n",
    "model.summary()\n"
   ]
  },
  {
   "cell_type": "code",
   "execution_count": 47,
   "id": "a5e56742",
   "metadata": {
    "scrolled": true
   },
   "outputs": [
    {
     "name": "stdout",
     "output_type": "stream",
     "text": [
      "Epoch 1/100\n",
      "26719/26719 [==============================] - 70s 3ms/step - precision: 0.8999 - loss: 0.2515 - recall: 0.8999 - accuracy: 0.8999 - val_accuracy: 0.9147 - val_precision: 0.9147 - val_recall: 0.9147 - val_loss: 0.2227\n",
      "Epoch 2/100\n",
      "26719/26719 [==============================] - 70s 3ms/step - precision: 0.9248 - loss: 0.1988 - recall: 0.9248 - accuracy: 0.9248 - val_accuracy: 0.9354 - val_precision: 0.9354 - val_recall: 0.9354 - val_loss: 0.1768\n",
      "Epoch 3/100\n",
      "26719/26719 [==============================] - 70s 3ms/step - precision: 0.9314 - loss: 0.1828 - recall: 0.9314 - accuracy: 0.9314 - val_accuracy: 0.9360 - val_precision: 0.9360 - val_recall: 0.9360 - val_loss: 0.1704\n",
      "Epoch 4/100\n",
      "26719/26719 [==============================] - 70s 3ms/step - precision: 0.9357 - loss: 0.1713 - recall: 0.9357 - accuracy: 0.9357 - val_accuracy: 0.9397 - val_precision: 0.9397 - val_recall: 0.9397 - val_loss: 0.1646\n",
      "Epoch 5/100\n",
      "26719/26719 [==============================] - 71s 3ms/step - precision: 0.9381 - loss: 0.1648 - recall: 0.9381 - accuracy: 0.9381 - val_accuracy: 0.9405 - val_precision: 0.9405 - val_recall: 0.9405 - val_loss: 0.1587\n",
      "Epoch 6/100\n",
      "26719/26719 [==============================] - 70s 3ms/step - precision: 0.9411 - loss: 0.1580 - recall: 0.9411 - accuracy: 0.9411 - val_accuracy: 0.9468 - val_precision: 0.9468 - val_recall: 0.9468 - val_loss: 0.1472\n",
      "Epoch 7/100\n",
      "26719/26719 [==============================] - 71s 3ms/step - precision: 0.9429 - loss: 0.1526 - recall: 0.9429 - accuracy: 0.9429 - val_accuracy: 0.9425 - val_precision: 0.9425 - val_recall: 0.9425 - val_loss: 0.1533\n",
      "Epoch 8/100\n",
      "26719/26719 [==============================] - 71s 3ms/step - precision: 0.9443 - loss: 0.1498 - recall: 0.9443 - accuracy: 0.9443 - val_accuracy: 0.9444 - val_precision: 0.9444 - val_recall: 0.9444 - val_loss: 0.1534\n",
      "Epoch 9/100\n",
      "26719/26719 [==============================] - 71s 3ms/step - precision: 0.9452 - loss: 0.1467 - recall: 0.9452 - accuracy: 0.9452 - val_accuracy: 0.9491 - val_precision: 0.9491 - val_recall: 0.9491 - val_loss: 0.1393\n",
      "Epoch 10/100\n",
      "26719/26719 [==============================] - 71s 3ms/step - precision: 0.9467 - loss: 0.1425 - recall: 0.9467 - accuracy: 0.9467 - val_accuracy: 0.9486 - val_precision: 0.9486 - val_recall: 0.9486 - val_loss: 0.1443\n",
      "Epoch 11/100\n",
      "26719/26719 [==============================] - 70s 3ms/step - precision: 0.9477 - loss: 0.1404 - recall: 0.9477 - accuracy: 0.9477 - val_accuracy: 0.9491 - val_precision: 0.9491 - val_recall: 0.9491 - val_loss: 0.1374\n",
      "Epoch 12/100\n",
      "26719/26719 [==============================] - 70s 3ms/step - precision: 0.9486 - loss: 0.1377 - recall: 0.9486 - accuracy: 0.9486 - val_accuracy: 0.9529 - val_precision: 0.9529 - val_recall: 0.9529 - val_loss: 0.1305\n",
      "Epoch 13/100\n",
      "26719/26719 [==============================] - 71s 3ms/step - precision: 0.9499 - loss: 0.1355 - recall: 0.9499 - accuracy: 0.9499 - val_accuracy: 0.9470 - val_precision: 0.9470 - val_recall: 0.9470 - val_loss: 0.1405\n",
      "Epoch 14/100\n",
      "26719/26719 [==============================] - 71s 3ms/step - precision: 0.9498 - loss: 0.1333 - recall: 0.9498 - accuracy: 0.9498 - val_accuracy: 0.9494 - val_precision: 0.9494 - val_recall: 0.9494 - val_loss: 0.1424\n",
      "Epoch 15/100\n",
      "26719/26719 [==============================] - 71s 3ms/step - precision: 0.9511 - loss: 0.1317 - recall: 0.9511 - accuracy: 0.9511 - val_accuracy: 0.9469 - val_precision: 0.9469 - val_recall: 0.9469 - val_loss: 0.1422\n",
      "Epoch 16/100\n",
      "26719/26719 [==============================] - 71s 3ms/step - precision: 0.9516 - loss: 0.1300 - recall: 0.9516 - accuracy: 0.9516 - val_accuracy: 0.9518 - val_precision: 0.9518 - val_recall: 0.9518 - val_loss: 0.1308\n",
      "Epoch 17/100\n",
      "26719/26719 [==============================] - 71s 3ms/step - precision: 0.9521 - loss: 0.1286 - recall: 0.9521 - accuracy: 0.9521 - val_accuracy: 0.9453 - val_precision: 0.9453 - val_recall: 0.9453 - val_loss: 0.1424\n",
      "Epoch 18/100\n",
      "26719/26719 [==============================] - 72s 3ms/step - precision: 0.9533 - loss: 0.1274 - recall: 0.9533 - accuracy: 0.9533 - val_accuracy: 0.9477 - val_precision: 0.9477 - val_recall: 0.9477 - val_loss: 0.1442\n",
      "Epoch 19/100\n",
      "26719/26719 [==============================] - 72s 3ms/step - precision: 0.9526 - loss: 0.1270 - recall: 0.9526 - accuracy: 0.9526 - val_accuracy: 0.9512 - val_precision: 0.9512 - val_recall: 0.9512 - val_loss: 0.1332\n",
      "Epoch 20/100\n",
      "26719/26719 [==============================] - 73s 3ms/step - precision: 0.9536 - loss: 0.1255 - recall: 0.9536 - accuracy: 0.9536 - val_accuracy: 0.9502 - val_precision: 0.9502 - val_recall: 0.9502 - val_loss: 0.1386\n",
      "Epoch 21/100\n",
      "26719/26719 [==============================] - 72s 3ms/step - precision: 0.9539 - loss: 0.1249 - recall: 0.9539 - accuracy: 0.9539 - val_accuracy: 0.9545 - val_precision: 0.9545 - val_recall: 0.9545 - val_loss: 0.1235\n",
      "Epoch 22/100\n",
      "26719/26719 [==============================] - 72s 3ms/step - precision: 0.9534 - loss: 0.1243 - recall: 0.9534 - accuracy: 0.9534 - val_accuracy: 0.9500 - val_precision: 0.9500 - val_recall: 0.9500 - val_loss: 0.1367\n",
      "Epoch 23/100\n",
      "26719/26719 [==============================] - 72s 3ms/step - precision: 0.9545 - loss: 0.1232 - recall: 0.9545 - accuracy: 0.9545 - val_accuracy: 0.9523 - val_precision: 0.9523 - val_recall: 0.9523 - val_loss: 0.1285\n",
      "Epoch 24/100\n",
      "26719/26719 [==============================] - 72s 3ms/step - precision: 0.9545 - loss: 0.1227 - recall: 0.9545 - accuracy: 0.9545 - val_accuracy: 0.9541 - val_precision: 0.9541 - val_recall: 0.9541 - val_loss: 0.1292\n",
      "Epoch 25/100\n",
      "26719/26719 [==============================] - 72s 3ms/step - precision: 0.9546 - loss: 0.1223 - recall: 0.9546 - accuracy: 0.9546 - val_accuracy: 0.9532 - val_precision: 0.9532 - val_recall: 0.9532 - val_loss: 0.1294\n",
      "Epoch 26/100\n",
      "26719/26719 [==============================] - 72s 3ms/step - precision: 0.9550 - loss: 0.1208 - recall: 0.9550 - accuracy: 0.9550 - val_accuracy: 0.9520 - val_precision: 0.9520 - val_recall: 0.9520 - val_loss: 0.1304\n",
      "Epoch 27/100\n",
      "26719/26719 [==============================] - 72s 3ms/step - precision: 0.9547 - loss: 0.1207 - recall: 0.9547 - accuracy: 0.9547 - val_accuracy: 0.9539 - val_precision: 0.9539 - val_recall: 0.9539 - val_loss: 0.1257\n",
      "Epoch 28/100\n",
      "26719/26719 [==============================] - 72s 3ms/step - precision: 0.9552 - loss: 0.1206 - recall: 0.9552 - accuracy: 0.9552 - val_accuracy: 0.9525 - val_precision: 0.9525 - val_recall: 0.9525 - val_loss: 0.1297\n",
      "Epoch 29/100\n",
      "26719/26719 [==============================] - 73s 3ms/step - precision: 0.9559 - loss: 0.1193 - recall: 0.9559 - accuracy: 0.9559 - val_accuracy: 0.9523 - val_precision: 0.9523 - val_recall: 0.9523 - val_loss: 0.1303\n",
      "Epoch 30/100\n",
      "26719/26719 [==============================] - 73s 3ms/step - precision: 0.9555 - loss: 0.1206 - recall: 0.9555 - accuracy: 0.9555 - val_accuracy: 0.9542 - val_precision: 0.9542 - val_recall: 0.9542 - val_loss: 0.1267\n",
      "Epoch 31/100\n",
      "26719/26719 [==============================] - 73s 3ms/step - precision: 0.9561 - loss: 0.1190 - recall: 0.9561 - accuracy: 0.9561 - val_accuracy: 0.9545 - val_precision: 0.9545 - val_recall: 0.9545 - val_loss: 0.1263\n"
     ]
    }
   ],
   "source": [
    "es = EarlyStopping(monitor='val_loss', mode='min', patience=10) # , patience=5\n",
    "mc = ModelCheckpoint('best_model.h5', monitor='val_loss', mode='min', save_best_only=True)\n",
    "\n",
    "\n",
    "history = model.fit(X_train, y_train, \n",
    "                    batch_size=8, \n",
    "                    epochs=100,\n",
    "                    validation_split=0.1, callbacks=[es])\n",
    "#callbacks=[es, mc]\n",
    "result = model.predict(X_test)"
   ]
  },
  {
   "cell_type": "code",
   "execution_count": 48,
   "id": "7c273e50",
   "metadata": {},
   "outputs": [
    {
     "data": {
      "image/png": "[encoded data removed]",
      "text/plain": [
       "<Figure size 432x288 with 1 Axes>"
      ]
     },
     "metadata": {
      "needs_background": "light"
     },
     "output_type": "display_data"
    },
    {
     "data": {
      "image/png": "[encoded data removed]",
      "text/plain": [
       "<Figure size 432x288 with 1 Axes>"
      ]
     },
     "metadata": {
      "needs_background": "light"
     },
     "output_type": "display_data"
    },
    {
     "data": {
      "image/png": "[encoded data removed]",
      "text/plain": [
       "<Figure size 432x288 with 1 Axes>"
      ]
     },
     "metadata": {
      "needs_background": "light"
     },
     "output_type": "display_data"
    },
    {
     "data": {
      "text/plain": [
       "<Figure size 432x288 with 0 Axes>"
      ]
     },
     "metadata": {},
     "output_type": "display_data"
    }
   ],
   "source": [
    "acc = history.history['accuracy']\n",
    "val_acc = history.history['val_accuracy']\n",
    "loss = history.history['loss']\n",
    "val_loss = history.history['val_loss']\n",
    "\n",
    "recall = history.history['recall']\n",
    "val_recall = history.history['val_recall']\n",
    "\n",
    "\n",
    "\n",
    "epochs = range(1, len(acc) + 1)\n",
    "\n",
    "plt.plot(epochs, acc, 'bo', label='Training acc')\n",
    "plt.plot(epochs, val_acc, 'b', label='Validation acc')\n",
    "plt.title('Training validation accuracy')\n",
    "plt.legend()\n",
    "\n",
    "plt.figure()\n",
    "\n",
    "plt.plot(epochs, loss, 'bo', label='Training loss')\n",
    "plt.plot(epochs, val_loss, 'b', label='Validation loss')\n",
    "plt.title('Training and validation loss')\n",
    "plt.legend()\n",
    "\n",
    "plt.figure()\n",
    "\n",
    "plt.plot(epochs, recall, 'bo', label='Training recall')\n",
    "plt.plot(epochs, val_recall, 'b', label='Validation recall')\n",
    "plt.title('Training and validation recall')\n",
    "plt.legend()\n",
    "\n",
    "plt.figure()\n",
    "\n",
    "# plt.plot(epochs, precision, 'bo', label='Training precision')\n",
    "# plt.plot(epochs, val_precision, 'b', label='Validation precision')\n",
    "# plt.title('Training and validation precision')\n",
    "# plt.legend()\n",
    "\n",
    "# plt.figure()\n",
    "\n",
    "\n",
    "plt.show()"
   ]
  },
  {
   "cell_type": "code",
   "execution_count": 49,
   "id": "c35a7b2f",
   "metadata": {},
   "outputs": [
    {
     "name": "stdout",
     "output_type": "stream",
     "text": [
      "initial value of conf_M:  [[0, 0], [0, 0]]\n",
      "conf_M:  [[12993, 539], [735, 12367]]\n",
      "activity:OtherSound,Speaking\n",
      "OtherSound , 12993,539\n",
      "Speaking , 735,12367\n",
      "\n",
      "activity:OtherSound,Speaking\n",
      "OtherSound , 0.96,0.04\n",
      "Speaking , 0.06,0.94\n",
      "\n",
      "label 개수:  2\n"
     ]
    }
   ],
   "source": [
    "\n",
    "# 실제값과 예측값을 비교하는 부분입니다.\n",
    "\n",
    "def print_M(conf_M): \n",
    "    s = \"activity:\"\n",
    "    for i in range(len(conf_M)):\n",
    "        s += lb.inverse_transform([i])[0] + \",\"\n",
    "    print(s[:-1])\n",
    "    for i in range(len(conf_M)):\n",
    "        s = \"\"\n",
    "        for j in range(len(conf_M)):\n",
    "            s += str(conf_M[i][j])\n",
    "            s += \",\"\n",
    "        print(lb.inverse_transform([i])[0], \",\", s[:-1])\n",
    "    print()\n",
    "    \n",
    "def print_M_P(conf_M):\n",
    "    s = \"activity:\"\n",
    "    for i in range(len(conf_M)):\n",
    "        s += lb.inverse_transform([i])[0] + \",\"\n",
    "    print(s[:-1])\n",
    "    for i in range(len(conf_M)):\n",
    "        s = \"\"\n",
    "        for j in range(len(conf_M)):\n",
    "            val = conf_M[i][j] / float(sum(conf_M[i]))\n",
    "            s += str(round(val, 2))\n",
    "            s += \",\"\n",
    "        print(lb.inverse_transform([i])[0], \",\", s[:-1])\n",
    "    print()\n",
    "    \n",
    "    \n",
    "def showResult():\n",
    "    predictions = [np.argmax(y) for y in result]\n",
    "    expected = [np.argmax(y) for y in y_test]\n",
    "\n",
    "    conf_M = [] #예측값 개수, 실젯값 개수\n",
    "    num_labels = y_test[0].shape[0]\n",
    "    for i in range(num_labels):\n",
    "        r = []\n",
    "        for j in range(num_labels):\n",
    "            r.append(0)\n",
    "        conf_M.append(r)\n",
    "    print(\"initial value of conf_M: \", conf_M)\n",
    "\n",
    "    n_tests = len(predictions)\n",
    "    for i in range(n_tests):\n",
    "        conf_M[expected[i]][predictions[i]] += 1\n",
    "\n",
    "    print(\"conf_M: \", conf_M)\n",
    "    print_M(conf_M)\n",
    "    print_M_P(conf_M)\n",
    "    print(\"label 개수: \", num_labels)\n",
    "\n",
    "showResult()# 실제값, 예측값\n",
    "# conf_M의 [0][0]: 실제값과 예측값 모두 0인 횟수\n",
    "# conf_M의 [1][1]: 실제값과 예측값 모두 1인 횟수"
   ]
  },
  {
   "cell_type": "code",
   "execution_count": 52,
   "id": "12da1c32",
   "metadata": {},
   "outputs": [
    {
     "name": "stdout",
     "output_type": "stream",
     "text": [
      "Accuracy: 95.22%\n"
     ]
    }
   ],
   "source": [
    "cnt = 0\n",
    "\n",
    "for i in range(len(y_test)):\n",
    "    if(np.amax(result[i])<0.5):\n",
    "#       pred = 11\n",
    "        pred = np.argmax(result[i])\n",
    "    else:\n",
    "        pred = np.argmax(result[i])\n",
    "    if np.argmax(y_test[i])==pred:\n",
    "        cnt+=1\n",
    "\n",
    "acc = str(round(cnt*100/float(len(y_test)),2))\n",
    "print(\"Accuracy: \" + acc + \"%\")"
   ]
  },
  {
   "cell_type": "code",
   "execution_count": 82,
   "id": "98b23f77",
   "metadata": {},
   "outputs": [],
   "source": [
    "## save model (optional)\n",
    "path = \"audio_model/\"\n",
    "model_json = model.to_json()\n",
    "with open(path+\"audio_CNN_\"+datetime.datetime.now().strftime('%Y_%m_%d_%H_%M_%S') + \"_acc_\"+acc+\".json\", \"w\") as json_file:\n",
    "    json_file.write(model_json)\n",
    "# serialize weights to HDF5\n",
    "model.save_weights(path+\"audio_CNN_\"+datetime.datetime.now().strftime('%Y_%m_%d_%H_%M_%S') + \"_acc_\"+acc+\".h5\")"
   ]
  },
  {
   "cell_type": "code",
   "execution_count": null,
   "id": "0ad7780f",
   "metadata": {},
   "outputs": [],
   "source": []
  }
 ],
 "metadata": {
  "kernelspec": {
   "display_name": "venv3.5",
   "language": "python",
   "name": "venv3.5"
  },
  "language_info": {
   "codemirror_mode": {
    "name": "ipython",
    "version": 3
   },
   "file_extension": ".py",
   "mimetype": "text/x-python",
   "name": "python",
   "nbconvert_exporter": "python",
   "pygments_lexer": "ipython3",
   "version": "3.5.2"
  }
 },
 "nbformat": 4,
 "nbformat_minor": 5
}
