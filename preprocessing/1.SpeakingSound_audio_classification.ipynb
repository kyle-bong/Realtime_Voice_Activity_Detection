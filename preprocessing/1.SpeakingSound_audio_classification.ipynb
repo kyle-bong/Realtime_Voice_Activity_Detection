{
 "cells": [
  {
   "cell_type": "markdown",
   "metadata": {},
   "source": [
    "# classificate speaking_audio files"
   ]
  },
  {
   "cell_type": "code",
   "execution_count": 2,
   "metadata": {},
   "outputs": [],
   "source": [
    "\n",
    "# 균형있게 구성하기\n",
    "    # 1. 성별 50:50\n",
    "    # 2. 지역 25:25:25:25\n",
    "    # 각 지역별로 남 10, 여 10명\n",
    "    # 총 80명.\n",
    "\n",
    "\n",
    "import os\n",
    "import shutil\n",
    "import random\n",
    "from typing_extensions import final"
   ]
  },
  {
   "cell_type": "code",
   "execution_count": 3,
   "metadata": {},
   "outputs": [],
   "source": [
    "A = [] # 강원\n",
    "B = [] # 서울/경기\n",
    "C = [] # 경상\n",
    "D = [] # 전라\n",
    "E = [] # 제주(현재 없음)\n",
    "F = [] # 충청(현재 없음)\n",
    "G = [] # 기타(현재 없음)"
   ]
  },
  {
   "cell_type": "code",
   "execution_count": 4,
   "metadata": {},
   "outputs": [],
   "source": [
    "region = ['A', 'B', 'C', 'D', 'E', 'F', 'G']"
   ]
  },
  {
   "cell_type": "code",
   "execution_count": 6,
   "metadata": {},
   "outputs": [
    {
     "name": "stdout",
     "output_type": "stream",
     "text": [
      "file_num:  100588\n",
      "file_num:  8857\n",
      "file_num:  7882\n",
      "file_num:  17703\n",
      "file_num:  0\n",
      "file_num:  0\n",
      "file_num:  0\n"
     ]
    }
   ],
   "source": [
    "# 각 파일들을 지역별로 분류합니다.\n",
    "\n",
    "# 노인 음성 데이터셋이 있는 디렉토리\n",
    "basic_path = os.path.join('../Dataset_audio/old_total')\n",
    "\n",
    "for i in region:\n",
    "    os.makedirs(basic_path + '/' + i)\n",
    "\n",
    "for (path, dir, files) in os.walk(basic_path):\n",
    "    for filename in files:\n",
    "        ext = os.path.splitext(filename)[-1]\n",
    "        if ext == '.wav':\n",
    "            if os.path.splitext(filename)[0][-1] == 'A':\n",
    "                A.append(filename)\n",
    "                shutil.move(\n",
    "                    os.path.join(path, filename),\n",
    "                    os.path.join(basic_path, 'A', filename)\n",
    "                )\n",
    "            elif os.path.splitext(filename)[0][-1] == 'B':\n",
    "                B.append(filename)\n",
    "                shutil.move(\n",
    "                    os.path.join(path, filename),\n",
    "                    os.path.join(basic_path, 'B', filename)\n",
    "                )\n",
    "            elif os.path.splitext(filename)[0][-1] == 'C':\n",
    "                C.append(filename)\n",
    "                shutil.move(\n",
    "                    os.path.join(path, filename),\n",
    "                    os.path.join(basic_path, 'C', filename)\n",
    "                )\n",
    "            elif os.path.splitext(filename)[0][-1] == 'D':\n",
    "                D.append(filename)\n",
    "                shutil.move(\n",
    "                    os.path.join(path, filename),\n",
    "                    os.path.join(basic_path, 'D', filename)\n",
    "                )\n",
    "            elif os.path.splitext(filename)[0][-1] == 'E':\n",
    "                E.append(filename)\n",
    "                shutil.move(\n",
    "                    os.path.join(path, filename),\n",
    "                    os.path.join(basic_path, 'E', filename)\n",
    "                )\n",
    "            elif os.path.splitext(filename)[0][-1] == 'F':\n",
    "                F.append(filename)\n",
    "                shutil.move(\n",
    "                    os.path.join(path, filename),\n",
    "                    os.path.join(basic_path, 'F', filename)\n",
    "                )\n",
    "            elif os.path.splitext(filename)[0][-1] == 'G':\n",
    "                G.append(filename)\n",
    "                shutil.move(\n",
    "                    os.path.join(path, filename),\n",
    "                    os.path.join(basic_path, 'G', filename)\n",
    "                )\n",
    "\n",
    "for i in [A, B, C, D, E, F, G]:\n",
    "    print('file_num: ', len(i))"
   ]
  },
  {
   "cell_type": "code",
   "execution_count": 7,
   "metadata": {},
   "outputs": [
    {
     "name": "stdout",
     "output_type": "stream",
     "text": [
      "A\n",
      "B\n",
      "C\n",
      "D\n",
      "E\n",
      "F\n",
      "G\n"
     ]
    }
   ],
   "source": [
    "# 지역별로 나눈 파일을 성별로 나눕니다.\n",
    "M=[]\n",
    "F=[]\n",
    "\n",
    "for i in region:\n",
    "    print(i)\n",
    "    for (path, dir, files) in os.walk(os.path.join(basic_path, i)):\n",
    "        for filename in files:\n",
    "            ext = os.path.splitext(filename)[-1]\n",
    "            if ext == '.wav':\n",
    "                if os.path.splitext(filename)[0][-6] == 'M':\n",
    "                    #print(filename, 'M')\n",
    "                    M.append(filename)\n",
    "                    try:\n",
    "                        os.mkdir(\n",
    "                            os.path.join(basic_path, i, 'M')\n",
    "                        )\n",
    "                    except FileExistsError:\n",
    "                        pass\n",
    "                    shutil.move(\n",
    "                        os.path.join(basic_path, i, filename),\n",
    "                        os.path.join(basic_path, i, 'M', filename)\n",
    "                    )\n",
    "                elif os.path.splitext(filename)[0][-6] == 'F':\n",
    "                    #print(filename, 'F')\n",
    "                    F.append(filename)\n",
    "                    try:\n",
    "                        os.mkdir(\n",
    "                            os.path.join(basic_path, i, 'F')\n",
    "                        )\n",
    "                    except FileExistsError:\n",
    "                        pass\n",
    "                    shutil.move(\n",
    "                        os.path.join(basic_path, i, filename),\n",
    "                        os.path.join(basic_path, i, 'F', filename)\n",
    "                    )\n",
    "                else:\n",
    "                    print('Cannot find gender')"
   ]
  },
  {
   "cell_type": "code",
   "execution_count": 8,
   "metadata": {},
   "outputs": [
    {
     "name": "stdout",
     "output_type": "stream",
     "text": [
      "A - M\n",
      "num of selected_speaker:  24\n",
      "A - F\n",
      "num of selected_speaker:  34\n",
      "B - M\n",
      "num of selected_speaker:  1\n",
      "B - F\n",
      "num of selected_speaker:  5\n",
      "C - M\n",
      "num of selected_speaker:  2\n",
      "C - F\n",
      "num of selected_speaker:  2\n",
      "D - M\n",
      "num of selected_speaker:  5\n",
      "D - F\n",
      "num of selected_speaker:  6\n",
      "E - M\n",
      "E - F\n",
      "F - M\n",
      "F - F\n"
     ]
    }
   ],
   "source": [
    "# 3. 각 지역별로 최대 남 100, 여 100명의 화자를 선정합니다.\n",
    "# 랜덤 선정\n",
    "# random.sample(list, n_sample)\n",
    "\n",
    "target_path = os.path.join('../Dataset_audio/old_total')\n",
    "\n",
    "def speaker_select(target_path):\n",
    "    region = ['A', 'B', 'C', 'D', 'E', 'F']\n",
    "    gender = ['M', 'F']\n",
    "    result = []\n",
    "    for i in region:\n",
    "        for g in gender:\n",
    "            print(i, '-', g)\n",
    "            try:\n",
    "                by_gender_files = os.listdir(os.path.join(target_path, i, g))\n",
    "                by_gender_speaker = [file[:6] for file in by_gender_files]\n",
    "                selected_speaker = random.sample(by_gender_speaker, 100)\n",
    "                result.append(selected_speaker)\n",
    "                print('num of selected_speaker: ', len(list(set(selected_speaker))))\n",
    "            except FileNotFoundError:\n",
    "                pass\n",
    "    return result\n",
    "\n",
    "selected_speakers = speaker_select(target_path)"
   ]
  },
  {
   "cell_type": "code",
   "execution_count": 9,
   "metadata": {},
   "outputs": [
    {
     "name": "stdout",
     "output_type": "stream",
     "text": [
      "A\n",
      "B\n",
      "C\n",
      "D\n",
      "E\n",
      "F\n",
      "[]\n"
     ]
    }
   ],
   "source": [
    "# file select\n",
    "target_path = r'../Dataset_audio/old_total'\n",
    "def file_select(target_path, selected_speakers):\n",
    "    err_count = []\n",
    "    region = ['A', 'B', 'C', 'D', 'E', 'F']\n",
    "    for i in region:\n",
    "        print(i)\n",
    "        for (path, dir, files) in os.walk(os.path.join(target_path, i)):\n",
    "            for filename in files:\n",
    "#                 ext = os.path.splitext(filename)[-1]\n",
    "#                 if ext == '.wav':\n",
    "                speaker = filename[:6]\n",
    "                g = os.path.splitext(filename)[0][-6]\n",
    "                for x in selected_speakers:\n",
    "                    if speaker in x:\n",
    "                        #print('he/she is selected speaker.')\n",
    "                        if  g == 'M':\n",
    "                            #print('{} is male'.format(speaker))\n",
    "                            try:\n",
    "                                os.makedirs(\n",
    "                                    os.path.join(target_path, i, 'selected_M', speaker)\n",
    "                                )\n",
    "                            except:\n",
    "                                pass\n",
    "                            shutil.copy(\n",
    "                                os.path.join(target_path, i, 'M', filename),\n",
    "                                os.path.join(target_path, i, 'selected_M', speaker, filename)\n",
    "                                )\n",
    "                        elif g == 'F':\n",
    "                            #print('{} is female'.format(speaker))\n",
    "                            try:\n",
    "                                os.makedirs(\n",
    "                                    os.path.join(target_path, i, 'selected_F', speaker)\n",
    "                                )\n",
    "                            except:\n",
    "                                pass\n",
    "                            shutil.copy(\n",
    "                                os.path.join(target_path, i, 'F', filename),\n",
    "                                os.path.join(target_path, i, 'selected_F', speaker, filename)\n",
    "                                )\n",
    "                        else:\n",
    "                            print('cannot found gender')\n",
    "                            err_count.append(filename)\n",
    "    print(err_count)\n",
    "\n",
    "file_select(target_path, selected_speakers)"
   ]
  },
  {
   "cell_type": "code",
   "execution_count": 15,
   "metadata": {},
   "outputs": [],
   "source": [
    "# selected_folders에 있는 파일 찾기\n",
    "# 한 화자당 최대 30개씩\n",
    "target_path = r'../Dataset_audio/old_total'\n",
    "selected_folders = ['selected_M', 'selected_F']\n",
    "\n",
    "def finding_selected_files(folder_name_list):\n",
    "    filenames_random = []\n",
    "    for i in region:\n",
    "        for (path, dir, files) in os.walk(target_path + '/' + i):\n",
    "            #print('current path:', path)\n",
    "            #print('curren dir:', dir)\n",
    "            if path.split('/')[-2] in folder_name_list:\n",
    "                filenames = []\n",
    "                for filename in files:\n",
    "                    #print('filename: ', filename)\n",
    "                    ext = os.path.splitext(filename)[-1]\n",
    "                    if ext == '.wav':\n",
    "                        filenames.append(filename)\n",
    "\n",
    "                filenames_random += random.sample(filenames, min(len(filenames), 30)) #최대 30\n",
    "    \n",
    "    return filenames_random\n",
    "\n",
    "selected_files = finding_selected_files(selected_folders)"
   ]
  },
  {
   "cell_type": "code",
   "execution_count": 16,
   "metadata": {},
   "outputs": [
    {
     "data": {
      "text/plain": [
       "2370"
      ]
     },
     "execution_count": 16,
     "metadata": {},
     "output_type": "execute_result"
    }
   ],
   "source": [
    "len(selected_files)"
   ]
  },
  {
   "cell_type": "code",
   "execution_count": 19,
   "metadata": {},
   "outputs": [],
   "source": [
    "# 랜덤으로 선택한 파일을 복사하기\n",
    "speaking_path = r'../Dataset_audio/Speaking'\n",
    "\n",
    "def final_selected_files(new_path, filename_list):\n",
    "    target_path = r'../Dataset_audio/old_total'\n",
    "    for (path, dir, files) in os.walk(target_path):\n",
    "        for filename in files:\n",
    "            if filename in filename_list:\n",
    "                try:\n",
    "                    shutil.copy(\n",
    "                                os.path.join(path, filename),\n",
    "                                os.path.join(new_path, filename)\n",
    "                                )\n",
    "                    #print(os.path.join(path, filename))\n",
    "                    #print(os.path.join(new_path, filename), 'copied')\n",
    "                except FileNotFoundError:\n",
    "                    pass\n",
    "final_selected_files(speaking_path, selected_files)"
   ]
  },
  {
   "cell_type": "code",
   "execution_count": 20,
   "metadata": {},
   "outputs": [
    {
     "data": {
      "text/plain": [
       "2370"
      ]
     },
     "execution_count": 20,
     "metadata": {},
     "output_type": "execute_result"
    }
   ],
   "source": [
    "len(os.listdir(r'../Dataset_audio/Speaking'))"
   ]
  }
 ],
 "metadata": {
  "interpreter": {
   "hash": "1480dc25cfe138a77c10907b3a21fc1ac1f5624d7780a75ef7dcd3d756c7b8b7"
  },
  "kernelspec": {
   "display_name": "Python 3.8.13 ('vad')",
   "language": "python",
   "name": "python3"
  },
  "language_info": {
   "codemirror_mode": {
    "name": "ipython",
    "version": 3
   },
   "file_extension": ".py",
   "mimetype": "text/x-python",
   "name": "python",
   "nbconvert_exporter": "python",
   "pygments_lexer": "ipython3",
   "version": "3.8.13"
  },
  "orig_nbformat": 4
 },
 "nbformat": 4,
 "nbformat_minor": 2
}
